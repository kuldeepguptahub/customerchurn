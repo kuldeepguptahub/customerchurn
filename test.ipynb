{
 "cells": [
  {
   "cell_type": "code",
   "execution_count": null,
   "id": "bfee4680",
   "metadata": {},
   "outputs": [],
   "source": []
  },
  {
   "cell_type": "code",
   "execution_count": 7,
   "id": "95c159af",
   "metadata": {},
   "outputs": [],
   "source": [
    "user_input = {\n",
    "    'GENDER': 'Male',\n",
    "    'SENIORCITIZEN': 'No',\n",
    "    'PARTNER': 'Yes',\n",
    "    'DEPENDENTS': 'No',\n",
    "    'TENURE': 12,\n",
    "    'PHONESERVICE': 'Yes',\n",
    "    'MULTIPLELINES': 'No',\n",
    "    'INTERNETSERVICE': 'No',\n",
    "    'ONLINESECURITY': 'No internet service',\n",
    "    'ONLINEBACKUP': 'No internet service',\n",
    "    'DEVICEPROTECTION': 'No internet service',\n",
    "    'TECHSUPPORT': 'No internet service',\n",
    "    'STREAMINGTV': 'No internet service',\n",
    "    'STREAMINGMOVIES': 'No internet service',\n",
    "    'CONTRACT': 'One year',\n",
    "    'PAPERLESSBILLING': 'No',\n",
    "    'PAYMENTMETHOD': 'Bank transfer (automatic)',\n",
    "    'MONTHLYCHARGES': 19.8,\n",
    "    'TOTALCHARGES': 202.25\n",
    "    }"
   ]
  },
  {
   "cell_type": "code",
   "execution_count": 8,
   "id": "ff6a3e73",
   "metadata": {},
   "outputs": [],
   "source": [
    "from src.input_schema import create_df\n",
    "\n",
    "df = create_df(user_input)"
   ]
  },
  {
   "cell_type": "code",
   "execution_count": 9,
   "id": "420fb75a",
   "metadata": {},
   "outputs": [],
   "source": [
    "df['IS_STREAMING'] = ((df['STREAMINGMOVIES'] == 'Yes') | (df['STREAMINGTV'] == 'Yes')).astype(int)\n",
    "\n",
    "df = df.drop(columns=['STREAMINGTV', 'STREAMINGMOVIES'])"
   ]
  },
  {
   "cell_type": "code",
   "execution_count": 10,
   "id": "46b1df3e",
   "metadata": {},
   "outputs": [
    {
     "name": "stdout",
     "output_type": "stream",
     "text": [
      "<class 'pandas.core.frame.DataFrame'>\n",
      "Index: 1 entries, 0 to 0\n",
      "Data columns (total 18 columns):\n",
      " #   Column            Non-Null Count  Dtype  \n",
      "---  ------            --------------  -----  \n",
      " 0   GENDER            1 non-null      object \n",
      " 1   SENIORCITIZEN     1 non-null      object \n",
      " 2   PARTNER           1 non-null      object \n",
      " 3   DEPENDENTS        1 non-null      object \n",
      " 4   TENURE            1 non-null      int64  \n",
      " 5   PHONESERVICE      1 non-null      object \n",
      " 6   MULTIPLELINES     1 non-null      object \n",
      " 7   INTERNETSERVICE   1 non-null      object \n",
      " 8   ONLINESECURITY    1 non-null      object \n",
      " 9   ONLINEBACKUP      1 non-null      object \n",
      " 10  DEVICEPROTECTION  1 non-null      object \n",
      " 11  TECHSUPPORT       1 non-null      object \n",
      " 12  CONTRACT          1 non-null      object \n",
      " 13  PAPERLESSBILLING  1 non-null      object \n",
      " 14  PAYMENTMETHOD     1 non-null      object \n",
      " 15  MONTHLYCHARGES    1 non-null      float64\n",
      " 16  TOTALCHARGES      1 non-null      float64\n",
      " 17  IS_STREAMING      1 non-null      int64  \n",
      "dtypes: float64(2), int64(2), object(14)\n",
      "memory usage: 152.0+ bytes\n"
     ]
    }
   ],
   "source": [
    "df.info()"
   ]
  },
  {
   "cell_type": "code",
   "execution_count": 11,
   "id": "90ba8595",
   "metadata": {},
   "outputs": [
    {
     "name": "stdout",
     "output_type": "stream",
     "text": [
      "['TENURE', 'MONTHLYCHARGES', 'TOTALCHARGES', 'IS_STREAMING']\n",
      "['GENDER', 'SENIORCITIZEN', 'PARTNER', 'DEPENDENTS', 'PHONESERVICE', 'MULTIPLELINES', 'INTERNETSERVICE', 'ONLINESECURITY', 'ONLINEBACKUP', 'DEVICEPROTECTION', 'TECHSUPPORT', 'CONTRACT', 'PAPERLESSBILLING', 'PAYMENTMETHOD']\n"
     ]
    }
   ],
   "source": [
    "num_cols = df.select_dtypes(include=['number']).columns.to_list()\n",
    "cat_cols = df.select_dtypes(include=['object']).columns.to_list()\n",
    "\n",
    "print(num_cols)\n",
    "print(cat_cols)"
   ]
  },
  {
   "cell_type": "code",
   "execution_count": 12,
   "id": "de6509f3",
   "metadata": {},
   "outputs": [],
   "source": [
    "from src.preprocessing import preprocess_data\n",
    "\n",
    "data = preprocess_data(input_df=df,\n",
    "                       transformer_path=\"models/transformer.pkl\")"
   ]
  },
  {
   "cell_type": "code",
   "execution_count": 14,
   "id": "b3376db0",
   "metadata": {},
   "outputs": [
    {
     "data": {
      "text/plain": [
       "'Prediction: Not Churn, Probability: 6.25%'"
      ]
     },
     "execution_count": 14,
     "metadata": {},
     "output_type": "execute_result"
    }
   ],
   "source": [
    "from src.predict import make_predictions\n",
    "\n",
    "make_predictions(input_array=data, model_path='models/randomforest.pkl')"
   ]
  },
  {
   "cell_type": "code",
   "execution_count": 15,
   "id": "92bd8cfa",
   "metadata": {},
   "outputs": [
    {
     "name": "stderr",
     "output_type": "stream",
     "text": [
      "2025-07-03 22:12:24.221 WARNING streamlit.runtime.scriptrunner_utils.script_run_context: Thread 'MainThread': missing ScriptRunContext! This warning can be ignored when running in bare mode.\n",
      "2025-07-03 22:12:24.803 \n",
      "  \u001b[33m\u001b[1mWarning:\u001b[0m to view this Streamlit app on a browser, run it with the following\n",
      "  command:\n",
      "\n",
      "    streamlit run d:\\customerchurn\\venv\\Lib\\site-packages\\ipykernel_launcher.py [ARGUMENTS]\n",
      "2025-07-03 22:12:24.805 Thread 'MainThread': missing ScriptRunContext! This warning can be ignored when running in bare mode.\n",
      "2025-07-03 22:12:24.806 Thread 'MainThread': missing ScriptRunContext! This warning can be ignored when running in bare mode.\n"
     ]
    }
   ],
   "source": [
    "from src.explain import explain\n",
    "\n",
    "explain(model_path='models.randomforest.pkl',\n",
    "        input_array=data,\n",
    "        feature_path='data/processed/feature_columns.json')"
   ]
  }
 ],
 "metadata": {
  "kernelspec": {
   "display_name": "venv",
   "language": "python",
   "name": "python3"
  },
  "language_info": {
   "codemirror_mode": {
    "name": "ipython",
    "version": 3
   },
   "file_extension": ".py",
   "mimetype": "text/x-python",
   "name": "python",
   "nbconvert_exporter": "python",
   "pygments_lexer": "ipython3",
   "version": "3.13.5"
  }
 },
 "nbformat": 4,
 "nbformat_minor": 5
}
