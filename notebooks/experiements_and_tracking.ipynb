{
 "cells": [
  {
   "cell_type": "markdown",
   "id": "f8cf4e66",
   "metadata": {},
   "source": [
    "This notebook begins with preprocessed and resampled data (SMOTE applied).\n",
    "Raw feature engineering, encoding, and scaling were done in prior notebooks.\n",
    "\n",
    "Data loaded from:\n",
    "- X_train.pkl, y_train.pkl\n",
    "- X_test.pkl, y_test.pkl\n"
   ]
  },
  {
   "cell_type": "code",
   "execution_count": 1,
   "id": "c0742b3d",
   "metadata": {},
   "outputs": [],
   "source": [
    "import joblib\n",
    "import json\n",
    "import pandas as pd\n",
    "import numpy as np\n",
    "import mlflow\n",
    "from sklearn.ensemble import RandomForestClassifier\n",
    "from sklearn.linear_model import LogisticRegression\n",
    "from sklearn.model_selection import GridSearchCV\n",
    "from sklearn.metrics import accuracy_score, precision_score, recall_score, f1_score"
   ]
  },
  {
   "cell_type": "code",
   "execution_count": 2,
   "id": "b7476875",
   "metadata": {},
   "outputs": [],
   "source": [
    "X_train = joblib.load('../data/processed/X_train.pkl')\n",
    "X_test = joblib.load('../data/processed/X_test.pkl')\n",
    "y_train = joblib.load('../data/processed/y_train.pkl')\n",
    "y_test = joblib.load('../data/processed/y_test.pkl')\n",
    "\n",
    "with open(\"../data/processed/feature_columns.json\") as f:\n",
    "    feature_names = json.load(f)"
   ]
  },
  {
   "cell_type": "code",
   "execution_count": 3,
   "id": "c5f5a8d8",
   "metadata": {},
   "outputs": [],
   "source": [
    "feature_names = [name.replace(\"cat__\", \"\").replace(\"num__\", \"\").replace(\"_\", \" \") for name in feature_names]"
   ]
  },
  {
   "cell_type": "code",
   "execution_count": 4,
   "id": "aeb59a45",
   "metadata": {},
   "outputs": [],
   "source": [
    "from mlflow import MlflowClient\n",
    "from pprint import pprint"
   ]
  },
  {
   "cell_type": "code",
   "execution_count": null,
   "id": "5e059e67",
   "metadata": {},
   "outputs": [],
   "source": [
    "client = MlflowClient(tracking_uri='http://127.0.0.1:8080')\n",
    "mlflow.set_tracking_uri('http://127.0.0.1:8080')\n",
    "\n",
    "experiment_name = 'Logistic Regression'\n",
    "\n",
    "mlflow.set_experiment(experiment_name)"
   ]
  },
  {
   "cell_type": "code",
   "execution_count": 10,
   "id": "be159356",
   "metadata": {},
   "outputs": [],
   "source": [
    "from itertools import product"
   ]
  },
  {
   "cell_type": "markdown",
   "id": "7320f5b4",
   "metadata": {},
   "source": [
    "#### Experiments and tracking with Logistic Regression Models"
   ]
  },
  {
   "cell_type": "code",
   "execution_count": 20,
   "id": "c956be43",
   "metadata": {},
   "outputs": [
    {
     "name": "stderr",
     "output_type": "stream",
     "text": [
      "2025/06/30 21:02:42 WARNING mlflow.models.model: `artifact_path` is deprecated. Please use `name` instead.\n",
      "2025/06/30 21:02:48 WARNING mlflow.models.model: Model logged without a signature and input example. Please set `input_example` parameter when logging the model to auto infer the model signature.\n",
      "2025/06/30 21:02:48 WARNING mlflow.models.model: `artifact_path` is deprecated. Please use `name` instead.\n"
     ]
    },
    {
     "name": "stdout",
     "output_type": "stream",
     "text": [
      "🏃 View run Logistic Regression at: http://127.0.0.1:8080/#/experiments/234568111001966360/runs/ccccacca12284377b14d822f7c92638f\n",
      "🧪 View experiment at: http://127.0.0.1:8080/#/experiments/234568111001966360\n"
     ]
    },
    {
     "name": "stderr",
     "output_type": "stream",
     "text": [
      "2025/06/30 21:02:53 WARNING mlflow.models.model: Model logged without a signature and input example. Please set `input_example` parameter when logging the model to auto infer the model signature.\n"
     ]
    },
    {
     "name": "stdout",
     "output_type": "stream",
     "text": [
      "🏃 View run Logistic Regression at: http://127.0.0.1:8080/#/experiments/234568111001966360/runs/05be1f2ea191430b8d76f0bd3d6481fc\n",
      "🧪 View experiment at: http://127.0.0.1:8080/#/experiments/234568111001966360\n"
     ]
    },
    {
     "name": "stderr",
     "output_type": "stream",
     "text": [
      "2025/06/30 21:02:53 WARNING mlflow.models.model: `artifact_path` is deprecated. Please use `name` instead.\n",
      "2025/06/30 21:02:57 WARNING mlflow.models.model: Model logged without a signature and input example. Please set `input_example` parameter when logging the model to auto infer the model signature.\n"
     ]
    },
    {
     "name": "stdout",
     "output_type": "stream",
     "text": [
      "🏃 View run Logistic Regression at: http://127.0.0.1:8080/#/experiments/234568111001966360/runs/9d90c86810864addb0469b2f4177a3e9\n",
      "🧪 View experiment at: http://127.0.0.1:8080/#/experiments/234568111001966360\n"
     ]
    },
    {
     "name": "stderr",
     "output_type": "stream",
     "text": [
      "2025/06/30 21:02:58 WARNING mlflow.models.model: `artifact_path` is deprecated. Please use `name` instead.\n",
      "2025/06/30 21:03:02 WARNING mlflow.models.model: Model logged without a signature and input example. Please set `input_example` parameter when logging the model to auto infer the model signature.\n"
     ]
    },
    {
     "name": "stdout",
     "output_type": "stream",
     "text": [
      "🏃 View run Logistic Regression at: http://127.0.0.1:8080/#/experiments/234568111001966360/runs/00cb496d86294aac90919adcb6b9a2c6\n",
      "🧪 View experiment at: http://127.0.0.1:8080/#/experiments/234568111001966360\n"
     ]
    },
    {
     "name": "stderr",
     "output_type": "stream",
     "text": [
      "2025/06/30 21:03:03 WARNING mlflow.models.model: `artifact_path` is deprecated. Please use `name` instead.\n",
      "2025/06/30 21:03:07 WARNING mlflow.models.model: Model logged without a signature and input example. Please set `input_example` parameter when logging the model to auto infer the model signature.\n"
     ]
    },
    {
     "name": "stdout",
     "output_type": "stream",
     "text": [
      "🏃 View run Logistic Regression at: http://127.0.0.1:8080/#/experiments/234568111001966360/runs/2d843e64b8554a4790cc6c7cf61631ab\n",
      "🧪 View experiment at: http://127.0.0.1:8080/#/experiments/234568111001966360\n"
     ]
    },
    {
     "name": "stderr",
     "output_type": "stream",
     "text": [
      "2025/06/30 21:03:08 WARNING mlflow.models.model: `artifact_path` is deprecated. Please use `name` instead.\n",
      "2025/06/30 21:03:12 WARNING mlflow.models.model: Model logged without a signature and input example. Please set `input_example` parameter when logging the model to auto infer the model signature.\n"
     ]
    },
    {
     "name": "stdout",
     "output_type": "stream",
     "text": [
      "🏃 View run Logistic Regression at: http://127.0.0.1:8080/#/experiments/234568111001966360/runs/40a103bfb729438497fcca78da4c791e\n",
      "🧪 View experiment at: http://127.0.0.1:8080/#/experiments/234568111001966360\n"
     ]
    },
    {
     "name": "stderr",
     "output_type": "stream",
     "text": [
      "2025/06/30 21:03:13 WARNING mlflow.models.model: `artifact_path` is deprecated. Please use `name` instead.\n",
      "2025/06/30 21:03:17 WARNING mlflow.models.model: Model logged without a signature and input example. Please set `input_example` parameter when logging the model to auto infer the model signature.\n"
     ]
    },
    {
     "name": "stdout",
     "output_type": "stream",
     "text": [
      "🏃 View run Logistic Regression at: http://127.0.0.1:8080/#/experiments/234568111001966360/runs/c763682256304f29915f98b7f7a3bea6\n",
      "🧪 View experiment at: http://127.0.0.1:8080/#/experiments/234568111001966360\n"
     ]
    },
    {
     "name": "stderr",
     "output_type": "stream",
     "text": [
      "2025/06/30 21:03:18 WARNING mlflow.models.model: `artifact_path` is deprecated. Please use `name` instead.\n",
      "2025/06/30 21:03:22 WARNING mlflow.models.model: Model logged without a signature and input example. Please set `input_example` parameter when logging the model to auto infer the model signature.\n"
     ]
    },
    {
     "name": "stdout",
     "output_type": "stream",
     "text": [
      "🏃 View run Logistic Regression at: http://127.0.0.1:8080/#/experiments/234568111001966360/runs/0b3355549d1f4ed7b03d41eb11f4378f\n",
      "🧪 View experiment at: http://127.0.0.1:8080/#/experiments/234568111001966360\n"
     ]
    },
    {
     "name": "stderr",
     "output_type": "stream",
     "text": [
      "2025/06/30 21:03:23 WARNING mlflow.models.model: `artifact_path` is deprecated. Please use `name` instead.\n",
      "2025/06/30 21:03:27 WARNING mlflow.models.model: Model logged without a signature and input example. Please set `input_example` parameter when logging the model to auto infer the model signature.\n"
     ]
    },
    {
     "name": "stdout",
     "output_type": "stream",
     "text": [
      "🏃 View run Logistic Regression at: http://127.0.0.1:8080/#/experiments/234568111001966360/runs/30e3eb614d5e48eebc3b80997ec61331\n",
      "🧪 View experiment at: http://127.0.0.1:8080/#/experiments/234568111001966360\n"
     ]
    },
    {
     "name": "stderr",
     "output_type": "stream",
     "text": [
      "2025/06/30 21:03:27 WARNING mlflow.models.model: `artifact_path` is deprecated. Please use `name` instead.\n",
      "2025/06/30 21:03:32 WARNING mlflow.models.model: Model logged without a signature and input example. Please set `input_example` parameter when logging the model to auto infer the model signature.\n"
     ]
    },
    {
     "name": "stdout",
     "output_type": "stream",
     "text": [
      "🏃 View run Logistic Regression at: http://127.0.0.1:8080/#/experiments/234568111001966360/runs/090997261c4a4de495479a4c8cf58ed5\n",
      "🧪 View experiment at: http://127.0.0.1:8080/#/experiments/234568111001966360\n"
     ]
    },
    {
     "name": "stderr",
     "output_type": "stream",
     "text": [
      "2025/06/30 21:03:32 WARNING mlflow.models.model: `artifact_path` is deprecated. Please use `name` instead.\n",
      "2025/06/30 21:03:36 WARNING mlflow.models.model: Model logged without a signature and input example. Please set `input_example` parameter when logging the model to auto infer the model signature.\n"
     ]
    },
    {
     "name": "stdout",
     "output_type": "stream",
     "text": [
      "🏃 View run Logistic Regression at: http://127.0.0.1:8080/#/experiments/234568111001966360/runs/8c620075a5d94077971a0b0ef0b56a77\n",
      "🧪 View experiment at: http://127.0.0.1:8080/#/experiments/234568111001966360\n"
     ]
    },
    {
     "name": "stderr",
     "output_type": "stream",
     "text": [
      "2025/06/30 21:03:36 WARNING mlflow.models.model: `artifact_path` is deprecated. Please use `name` instead.\n",
      "2025/06/30 21:03:41 WARNING mlflow.models.model: Model logged without a signature and input example. Please set `input_example` parameter when logging the model to auto infer the model signature.\n",
      "2025/06/30 21:03:41 WARNING mlflow.models.model: `artifact_path` is deprecated. Please use `name` instead.\n"
     ]
    },
    {
     "name": "stdout",
     "output_type": "stream",
     "text": [
      "🏃 View run Logistic Regression at: http://127.0.0.1:8080/#/experiments/234568111001966360/runs/1b4a9e574c3f4319a9e645a3062c101e\n",
      "🧪 View experiment at: http://127.0.0.1:8080/#/experiments/234568111001966360\n"
     ]
    },
    {
     "name": "stderr",
     "output_type": "stream",
     "text": [
      "2025/06/30 21:03:45 WARNING mlflow.models.model: Model logged without a signature and input example. Please set `input_example` parameter when logging the model to auto infer the model signature.\n",
      "2025/06/30 21:03:46 WARNING mlflow.models.model: `artifact_path` is deprecated. Please use `name` instead.\n"
     ]
    },
    {
     "name": "stdout",
     "output_type": "stream",
     "text": [
      "🏃 View run Logistic Regression at: http://127.0.0.1:8080/#/experiments/234568111001966360/runs/080accb53f4d4e0eb6c3f053fbde702e\n",
      "🧪 View experiment at: http://127.0.0.1:8080/#/experiments/234568111001966360\n"
     ]
    },
    {
     "name": "stderr",
     "output_type": "stream",
     "text": [
      "2025/06/30 21:03:50 WARNING mlflow.models.model: Model logged without a signature and input example. Please set `input_example` parameter when logging the model to auto infer the model signature.\n"
     ]
    },
    {
     "name": "stdout",
     "output_type": "stream",
     "text": [
      "🏃 View run Logistic Regression at: http://127.0.0.1:8080/#/experiments/234568111001966360/runs/29bf620974574c85839da93815c8bc53\n",
      "🧪 View experiment at: http://127.0.0.1:8080/#/experiments/234568111001966360\n"
     ]
    },
    {
     "name": "stderr",
     "output_type": "stream",
     "text": [
      "2025/06/30 21:03:51 WARNING mlflow.models.model: `artifact_path` is deprecated. Please use `name` instead.\n",
      "2025/06/30 21:03:55 WARNING mlflow.models.model: Model logged without a signature and input example. Please set `input_example` parameter when logging the model to auto infer the model signature.\n",
      "2025/06/30 21:03:56 WARNING mlflow.models.model: `artifact_path` is deprecated. Please use `name` instead.\n"
     ]
    },
    {
     "name": "stdout",
     "output_type": "stream",
     "text": [
      "🏃 View run Logistic Regression at: http://127.0.0.1:8080/#/experiments/234568111001966360/runs/eabef34ea246464087110f0b96158346\n",
      "🧪 View experiment at: http://127.0.0.1:8080/#/experiments/234568111001966360\n"
     ]
    },
    {
     "name": "stderr",
     "output_type": "stream",
     "text": [
      "2025/06/30 21:04:00 WARNING mlflow.models.model: Model logged without a signature and input example. Please set `input_example` parameter when logging the model to auto infer the model signature.\n",
      "2025/06/30 21:04:00 WARNING mlflow.models.model: `artifact_path` is deprecated. Please use `name` instead.\n"
     ]
    },
    {
     "name": "stdout",
     "output_type": "stream",
     "text": [
      "🏃 View run Logistic Regression at: http://127.0.0.1:8080/#/experiments/234568111001966360/runs/60280558b1b741258f2339ef7440d7c1\n",
      "🧪 View experiment at: http://127.0.0.1:8080/#/experiments/234568111001966360\n"
     ]
    },
    {
     "name": "stderr",
     "output_type": "stream",
     "text": [
      "2025/06/30 21:04:05 WARNING mlflow.models.model: Model logged without a signature and input example. Please set `input_example` parameter when logging the model to auto infer the model signature.\n"
     ]
    },
    {
     "name": "stdout",
     "output_type": "stream",
     "text": [
      "🏃 View run Logistic Regression at: http://127.0.0.1:8080/#/experiments/234568111001966360/runs/6b006094440c4fada13e143f911e8c77\n",
      "🧪 View experiment at: http://127.0.0.1:8080/#/experiments/234568111001966360\n"
     ]
    },
    {
     "name": "stderr",
     "output_type": "stream",
     "text": [
      "2025/06/30 21:04:05 WARNING mlflow.models.model: `artifact_path` is deprecated. Please use `name` instead.\n",
      "2025/06/30 21:04:10 WARNING mlflow.models.model: Model logged without a signature and input example. Please set `input_example` parameter when logging the model to auto infer the model signature.\n",
      "2025/06/30 21:04:10 WARNING mlflow.models.model: `artifact_path` is deprecated. Please use `name` instead.\n"
     ]
    },
    {
     "name": "stdout",
     "output_type": "stream",
     "text": [
      "🏃 View run Logistic Regression at: http://127.0.0.1:8080/#/experiments/234568111001966360/runs/74e4f3fdb4e1423697019a22ab0139d4\n",
      "🧪 View experiment at: http://127.0.0.1:8080/#/experiments/234568111001966360\n"
     ]
    },
    {
     "name": "stderr",
     "output_type": "stream",
     "text": [
      "2025/06/30 21:04:14 WARNING mlflow.models.model: Model logged without a signature and input example. Please set `input_example` parameter when logging the model to auto infer the model signature.\n"
     ]
    },
    {
     "name": "stdout",
     "output_type": "stream",
     "text": [
      "🏃 View run Logistic Regression at: http://127.0.0.1:8080/#/experiments/234568111001966360/runs/295530401911406abeb0a960ab74d334\n",
      "🧪 View experiment at: http://127.0.0.1:8080/#/experiments/234568111001966360\n"
     ]
    },
    {
     "name": "stderr",
     "output_type": "stream",
     "text": [
      "2025/06/30 21:04:15 WARNING mlflow.models.model: `artifact_path` is deprecated. Please use `name` instead.\n",
      "2025/06/30 21:04:19 WARNING mlflow.models.model: Model logged without a signature and input example. Please set `input_example` parameter when logging the model to auto infer the model signature.\n"
     ]
    },
    {
     "name": "stdout",
     "output_type": "stream",
     "text": [
      "🏃 View run Logistic Regression at: http://127.0.0.1:8080/#/experiments/234568111001966360/runs/91d5d963cb2540fd9a8876d90265bea0\n",
      "🧪 View experiment at: http://127.0.0.1:8080/#/experiments/234568111001966360\n"
     ]
    }
   ],
   "source": [
    "param_space = {\n",
    "    'penalty': ['l1', 'l2'],\n",
    "    'C': [0.01, 0.1, 1, 10, 100],\n",
    "    'solver': ['liblinear'],\n",
    "    'class_weight': [None, 'balanced']\n",
    "}\n",
    "\n",
    "artifact_path = \"lr_churn\"\n",
    "\n",
    "for penalty, C, solver, class_weight in product(\n",
    "    param_space['penalty'],\n",
    "    param_space['C'],\n",
    "    param_space['solver'],\n",
    "    param_space['class_weight']\n",
    "):\n",
    "    # ⚠️ Construct model using the current combo\n",
    "    model = LogisticRegression(\n",
    "        penalty=penalty,\n",
    "        C=C,\n",
    "        solver=solver,\n",
    "        class_weight=class_weight,\n",
    "        random_state=42,\n",
    "        max_iter=1000\n",
    "    )\n",
    "\n",
    "    model.fit(X_train, y_train)\n",
    "    y_pred = model.predict(X_test)\n",
    "\n",
    "    # ✅ Compute metrics\n",
    "    metrics = {\n",
    "        'accuracy': accuracy_score(y_test, y_pred),\n",
    "        'precision': precision_score(y_test, y_pred),\n",
    "        'recall': recall_score(y_test, y_pred),\n",
    "        'f1_score': f1_score(y_test, y_pred)\n",
    "    }\n",
    "\n",
    "    # ✅ Log each run with its actual params\n",
    "    with mlflow.start_run(run_name=\"Logistic Regression\") as run:\n",
    "        mlflow.log_param(\"penalty\", penalty)\n",
    "        mlflow.log_param(\"C\", C)\n",
    "        mlflow.log_param(\"solver\", solver)\n",
    "        mlflow.log_param(\"class_weight\", class_weight)\n",
    "\n",
    "        mlflow.log_metrics(metrics)\n",
    "        mlflow.sklearn.log_model(model, artifact_path)"
   ]
  },
  {
   "cell_type": "markdown",
   "id": "66dbdf66",
   "metadata": {},
   "source": [
    "#### Experiments and tracking with Random Forest Models"
   ]
  },
  {
   "cell_type": "code",
   "execution_count": 21,
   "id": "167f01ae",
   "metadata": {},
   "outputs": [
    {
     "name": "stderr",
     "output_type": "stream",
     "text": [
      "2025/06/30 21:20:31 INFO mlflow.tracking.fluent: Experiment with name 'Random Forest' does not exist. Creating a new experiment.\n"
     ]
    },
    {
     "data": {
      "text/plain": [
       "<Experiment: artifact_location='mlflow-artifacts:/821614312877706925', creation_time=1751298631575, experiment_id='821614312877706925', last_update_time=1751298631575, lifecycle_stage='active', name='Random Forest', tags={}>"
      ]
     },
     "execution_count": 21,
     "metadata": {},
     "output_type": "execute_result"
    }
   ],
   "source": [
    "experiment_name = 'Random Forest'\n",
    "\n",
    "mlflow.set_experiment(experiment_name)"
   ]
  },
  {
   "cell_type": "code",
   "execution_count": 24,
   "id": "55a0fb81",
   "metadata": {},
   "outputs": [
    {
     "name": "stderr",
     "output_type": "stream",
     "text": [
      "2025/06/30 21:31:47 WARNING mlflow.models.model: `artifact_path` is deprecated. Please use `name` instead.\n",
      "2025/06/30 21:31:54 WARNING mlflow.models.model: Model logged without a signature and input example. Please set `input_example` parameter when logging the model to auto infer the model signature.\n"
     ]
    },
    {
     "name": "stdout",
     "output_type": "stream",
     "text": [
      "🏃 View run Random Forest at: http://127.0.0.1:8080/#/experiments/821614312877706925/runs/914bd9848561493aac3b942e558bd11b\n",
      "🧪 View experiment at: http://127.0.0.1:8080/#/experiments/821614312877706925\n"
     ]
    },
    {
     "name": "stderr",
     "output_type": "stream",
     "text": [
      "2025/06/30 21:31:56 WARNING mlflow.models.model: `artifact_path` is deprecated. Please use `name` instead.\n",
      "2025/06/30 21:32:02 WARNING mlflow.models.model: Model logged without a signature and input example. Please set `input_example` parameter when logging the model to auto infer the model signature.\n"
     ]
    },
    {
     "name": "stdout",
     "output_type": "stream",
     "text": [
      "🏃 View run Random Forest at: http://127.0.0.1:8080/#/experiments/821614312877706925/runs/b5467cb5ca674bdb822b83fa6a7d84be\n",
      "🧪 View experiment at: http://127.0.0.1:8080/#/experiments/821614312877706925\n"
     ]
    },
    {
     "name": "stderr",
     "output_type": "stream",
     "text": [
      "2025/06/30 21:32:05 WARNING mlflow.models.model: `artifact_path` is deprecated. Please use `name` instead.\n",
      "2025/06/30 21:32:13 WARNING mlflow.models.model: Model logged without a signature and input example. Please set `input_example` parameter when logging the model to auto infer the model signature.\n"
     ]
    },
    {
     "name": "stdout",
     "output_type": "stream",
     "text": [
      "🏃 View run Random Forest at: http://127.0.0.1:8080/#/experiments/821614312877706925/runs/047800401ad14ff6a9391c84d2e462c8\n",
      "🧪 View experiment at: http://127.0.0.1:8080/#/experiments/821614312877706925\n"
     ]
    },
    {
     "name": "stderr",
     "output_type": "stream",
     "text": [
      "2025/06/30 21:32:15 WARNING mlflow.models.model: `artifact_path` is deprecated. Please use `name` instead.\n",
      "2025/06/30 21:32:20 WARNING mlflow.models.model: Model logged without a signature and input example. Please set `input_example` parameter when logging the model to auto infer the model signature.\n"
     ]
    },
    {
     "name": "stdout",
     "output_type": "stream",
     "text": [
      "🏃 View run Random Forest at: http://127.0.0.1:8080/#/experiments/821614312877706925/runs/fb1908db789b44499ebc630df0f72821\n",
      "🧪 View experiment at: http://127.0.0.1:8080/#/experiments/821614312877706925\n"
     ]
    },
    {
     "name": "stderr",
     "output_type": "stream",
     "text": [
      "2025/06/30 21:32:23 WARNING mlflow.models.model: `artifact_path` is deprecated. Please use `name` instead.\n",
      "2025/06/30 21:32:29 WARNING mlflow.models.model: Model logged without a signature and input example. Please set `input_example` parameter when logging the model to auto infer the model signature.\n"
     ]
    },
    {
     "name": "stdout",
     "output_type": "stream",
     "text": [
      "🏃 View run Random Forest at: http://127.0.0.1:8080/#/experiments/821614312877706925/runs/33ca11640b4949d99f2d5daa018be4ec\n",
      "🧪 View experiment at: http://127.0.0.1:8080/#/experiments/821614312877706925\n"
     ]
    },
    {
     "name": "stderr",
     "output_type": "stream",
     "text": [
      "2025/06/30 21:32:31 WARNING mlflow.models.model: `artifact_path` is deprecated. Please use `name` instead.\n",
      "2025/06/30 21:32:36 WARNING mlflow.models.model: Model logged without a signature and input example. Please set `input_example` parameter when logging the model to auto infer the model signature.\n"
     ]
    },
    {
     "name": "stdout",
     "output_type": "stream",
     "text": [
      "🏃 View run Random Forest at: http://127.0.0.1:8080/#/experiments/821614312877706925/runs/b554a612492943e6be4bd25aba23f1d8\n",
      "🧪 View experiment at: http://127.0.0.1:8080/#/experiments/821614312877706925\n"
     ]
    },
    {
     "name": "stderr",
     "output_type": "stream",
     "text": [
      "2025/06/30 21:32:38 WARNING mlflow.models.model: `artifact_path` is deprecated. Please use `name` instead.\n",
      "2025/06/30 21:32:43 WARNING mlflow.models.model: Model logged without a signature and input example. Please set `input_example` parameter when logging the model to auto infer the model signature.\n"
     ]
    },
    {
     "name": "stdout",
     "output_type": "stream",
     "text": [
      "🏃 View run Random Forest at: http://127.0.0.1:8080/#/experiments/821614312877706925/runs/37471b5107a84fd1a16e3a0809422a5a\n",
      "🧪 View experiment at: http://127.0.0.1:8080/#/experiments/821614312877706925\n"
     ]
    },
    {
     "name": "stderr",
     "output_type": "stream",
     "text": [
      "2025/06/30 21:32:46 WARNING mlflow.models.model: `artifact_path` is deprecated. Please use `name` instead.\n",
      "2025/06/30 21:32:52 WARNING mlflow.models.model: Model logged without a signature and input example. Please set `input_example` parameter when logging the model to auto infer the model signature.\n"
     ]
    },
    {
     "name": "stdout",
     "output_type": "stream",
     "text": [
      "🏃 View run Random Forest at: http://127.0.0.1:8080/#/experiments/821614312877706925/runs/ec56f69edb584aa9a1f88410a5b613cd\n",
      "🧪 View experiment at: http://127.0.0.1:8080/#/experiments/821614312877706925\n"
     ]
    },
    {
     "name": "stderr",
     "output_type": "stream",
     "text": [
      "2025/06/30 21:32:54 WARNING mlflow.models.model: `artifact_path` is deprecated. Please use `name` instead.\n",
      "2025/06/30 21:32:58 WARNING mlflow.models.model: Model logged without a signature and input example. Please set `input_example` parameter when logging the model to auto infer the model signature.\n"
     ]
    },
    {
     "name": "stdout",
     "output_type": "stream",
     "text": [
      "🏃 View run Random Forest at: http://127.0.0.1:8080/#/experiments/821614312877706925/runs/9fbd65c761ca470dbf1f3b37bdcc8037\n",
      "🧪 View experiment at: http://127.0.0.1:8080/#/experiments/821614312877706925\n"
     ]
    },
    {
     "name": "stderr",
     "output_type": "stream",
     "text": [
      "2025/06/30 21:32:59 WARNING mlflow.models.model: `artifact_path` is deprecated. Please use `name` instead.\n",
      "2025/06/30 21:33:03 WARNING mlflow.models.model: Model logged without a signature and input example. Please set `input_example` parameter when logging the model to auto infer the model signature.\n"
     ]
    },
    {
     "name": "stdout",
     "output_type": "stream",
     "text": [
      "🏃 View run Random Forest at: http://127.0.0.1:8080/#/experiments/821614312877706925/runs/5e76a7dab48a4c8da267e836ffdfc11d\n",
      "🧪 View experiment at: http://127.0.0.1:8080/#/experiments/821614312877706925\n"
     ]
    },
    {
     "name": "stderr",
     "output_type": "stream",
     "text": [
      "2025/06/30 21:33:05 WARNING mlflow.models.model: `artifact_path` is deprecated. Please use `name` instead.\n",
      "2025/06/30 21:33:09 WARNING mlflow.models.model: Model logged without a signature and input example. Please set `input_example` parameter when logging the model to auto infer the model signature.\n"
     ]
    },
    {
     "name": "stdout",
     "output_type": "stream",
     "text": [
      "🏃 View run Random Forest at: http://127.0.0.1:8080/#/experiments/821614312877706925/runs/2d6f540749f346fb9e4ad2432e1c658a\n",
      "🧪 View experiment at: http://127.0.0.1:8080/#/experiments/821614312877706925\n"
     ]
    },
    {
     "name": "stderr",
     "output_type": "stream",
     "text": [
      "2025/06/30 21:33:10 WARNING mlflow.models.model: `artifact_path` is deprecated. Please use `name` instead.\n",
      "2025/06/30 21:33:15 WARNING mlflow.models.model: Model logged without a signature and input example. Please set `input_example` parameter when logging the model to auto infer the model signature.\n"
     ]
    },
    {
     "name": "stdout",
     "output_type": "stream",
     "text": [
      "🏃 View run Random Forest at: http://127.0.0.1:8080/#/experiments/821614312877706925/runs/acf76b539ad041cd9f9cda008de875c7\n",
      "🧪 View experiment at: http://127.0.0.1:8080/#/experiments/821614312877706925\n"
     ]
    },
    {
     "name": "stderr",
     "output_type": "stream",
     "text": [
      "2025/06/30 21:33:16 WARNING mlflow.models.model: `artifact_path` is deprecated. Please use `name` instead.\n",
      "2025/06/30 21:33:20 WARNING mlflow.models.model: Model logged without a signature and input example. Please set `input_example` parameter when logging the model to auto infer the model signature.\n"
     ]
    },
    {
     "name": "stdout",
     "output_type": "stream",
     "text": [
      "🏃 View run Random Forest at: http://127.0.0.1:8080/#/experiments/821614312877706925/runs/24e131b064b745a0b9bdea56cc4c4cde\n",
      "🧪 View experiment at: http://127.0.0.1:8080/#/experiments/821614312877706925\n"
     ]
    },
    {
     "name": "stderr",
     "output_type": "stream",
     "text": [
      "2025/06/30 21:33:22 WARNING mlflow.models.model: `artifact_path` is deprecated. Please use `name` instead.\n",
      "2025/06/30 21:33:26 WARNING mlflow.models.model: Model logged without a signature and input example. Please set `input_example` parameter when logging the model to auto infer the model signature.\n"
     ]
    },
    {
     "name": "stdout",
     "output_type": "stream",
     "text": [
      "🏃 View run Random Forest at: http://127.0.0.1:8080/#/experiments/821614312877706925/runs/6b821aaf3e9a4f5eadd3581d0b781d93\n",
      "🧪 View experiment at: http://127.0.0.1:8080/#/experiments/821614312877706925\n"
     ]
    },
    {
     "name": "stderr",
     "output_type": "stream",
     "text": [
      "2025/06/30 21:33:28 WARNING mlflow.models.model: `artifact_path` is deprecated. Please use `name` instead.\n",
      "2025/06/30 21:33:32 WARNING mlflow.models.model: Model logged without a signature and input example. Please set `input_example` parameter when logging the model to auto infer the model signature.\n"
     ]
    },
    {
     "name": "stdout",
     "output_type": "stream",
     "text": [
      "🏃 View run Random Forest at: http://127.0.0.1:8080/#/experiments/821614312877706925/runs/1fdc9ef6e6f54e74884fb6517698ad00\n",
      "🧪 View experiment at: http://127.0.0.1:8080/#/experiments/821614312877706925\n"
     ]
    },
    {
     "name": "stderr",
     "output_type": "stream",
     "text": [
      "2025/06/30 21:33:33 WARNING mlflow.models.model: `artifact_path` is deprecated. Please use `name` instead.\n",
      "2025/06/30 21:33:37 WARNING mlflow.models.model: Model logged without a signature and input example. Please set `input_example` parameter when logging the model to auto infer the model signature.\n"
     ]
    },
    {
     "name": "stdout",
     "output_type": "stream",
     "text": [
      "🏃 View run Random Forest at: http://127.0.0.1:8080/#/experiments/821614312877706925/runs/69bb47754de44d5aa9f1153e14e7d9f5\n",
      "🧪 View experiment at: http://127.0.0.1:8080/#/experiments/821614312877706925\n"
     ]
    },
    {
     "name": "stderr",
     "output_type": "stream",
     "text": [
      "2025/06/30 21:33:39 WARNING mlflow.models.model: `artifact_path` is deprecated. Please use `name` instead.\n",
      "2025/06/30 21:33:44 WARNING mlflow.models.model: Model logged without a signature and input example. Please set `input_example` parameter when logging the model to auto infer the model signature.\n"
     ]
    },
    {
     "name": "stdout",
     "output_type": "stream",
     "text": [
      "🏃 View run Random Forest at: http://127.0.0.1:8080/#/experiments/821614312877706925/runs/555c9a9658d6464d8fd1b4709c501dd9\n",
      "🧪 View experiment at: http://127.0.0.1:8080/#/experiments/821614312877706925\n"
     ]
    },
    {
     "name": "stderr",
     "output_type": "stream",
     "text": [
      "2025/06/30 21:33:46 WARNING mlflow.models.model: `artifact_path` is deprecated. Please use `name` instead.\n",
      "2025/06/30 21:33:51 WARNING mlflow.models.model: Model logged without a signature and input example. Please set `input_example` parameter when logging the model to auto infer the model signature.\n"
     ]
    },
    {
     "name": "stdout",
     "output_type": "stream",
     "text": [
      "🏃 View run Random Forest at: http://127.0.0.1:8080/#/experiments/821614312877706925/runs/f9f37f5d9d5143899bbb1a43464cb65d\n",
      "🧪 View experiment at: http://127.0.0.1:8080/#/experiments/821614312877706925\n"
     ]
    },
    {
     "name": "stderr",
     "output_type": "stream",
     "text": [
      "2025/06/30 21:33:53 WARNING mlflow.models.model: `artifact_path` is deprecated. Please use `name` instead.\n",
      "2025/06/30 21:33:59 WARNING mlflow.models.model: Model logged without a signature and input example. Please set `input_example` parameter when logging the model to auto infer the model signature.\n"
     ]
    },
    {
     "name": "stdout",
     "output_type": "stream",
     "text": [
      "🏃 View run Random Forest at: http://127.0.0.1:8080/#/experiments/821614312877706925/runs/4cca98d8b73848ffbc1f49511a265ce9\n",
      "🧪 View experiment at: http://127.0.0.1:8080/#/experiments/821614312877706925\n"
     ]
    },
    {
     "name": "stderr",
     "output_type": "stream",
     "text": [
      "2025/06/30 21:34:00 WARNING mlflow.models.model: `artifact_path` is deprecated. Please use `name` instead.\n",
      "2025/06/30 21:34:05 WARNING mlflow.models.model: Model logged without a signature and input example. Please set `input_example` parameter when logging the model to auto infer the model signature.\n"
     ]
    },
    {
     "name": "stdout",
     "output_type": "stream",
     "text": [
      "🏃 View run Random Forest at: http://127.0.0.1:8080/#/experiments/821614312877706925/runs/267d8ce82cbd4c1fb5333984705f0114\n",
      "🧪 View experiment at: http://127.0.0.1:8080/#/experiments/821614312877706925\n"
     ]
    },
    {
     "name": "stderr",
     "output_type": "stream",
     "text": [
      "2025/06/30 21:34:07 WARNING mlflow.models.model: `artifact_path` is deprecated. Please use `name` instead.\n",
      "2025/06/30 21:34:12 WARNING mlflow.models.model: Model logged without a signature and input example. Please set `input_example` parameter when logging the model to auto infer the model signature.\n"
     ]
    },
    {
     "name": "stdout",
     "output_type": "stream",
     "text": [
      "🏃 View run Random Forest at: http://127.0.0.1:8080/#/experiments/821614312877706925/runs/2f5fd892f7eb49bfb7336dd176daf600\n",
      "🧪 View experiment at: http://127.0.0.1:8080/#/experiments/821614312877706925\n"
     ]
    },
    {
     "name": "stderr",
     "output_type": "stream",
     "text": [
      "2025/06/30 21:34:14 WARNING mlflow.models.model: `artifact_path` is deprecated. Please use `name` instead.\n",
      "2025/06/30 21:34:19 WARNING mlflow.models.model: Model logged without a signature and input example. Please set `input_example` parameter when logging the model to auto infer the model signature.\n"
     ]
    },
    {
     "name": "stdout",
     "output_type": "stream",
     "text": [
      "🏃 View run Random Forest at: http://127.0.0.1:8080/#/experiments/821614312877706925/runs/e48c17e4ad834c75b9f45e4c3476a975\n",
      "🧪 View experiment at: http://127.0.0.1:8080/#/experiments/821614312877706925\n"
     ]
    },
    {
     "name": "stderr",
     "output_type": "stream",
     "text": [
      "2025/06/30 21:34:20 WARNING mlflow.models.model: `artifact_path` is deprecated. Please use `name` instead.\n",
      "2025/06/30 21:34:25 WARNING mlflow.models.model: Model logged without a signature and input example. Please set `input_example` parameter when logging the model to auto infer the model signature.\n"
     ]
    },
    {
     "name": "stdout",
     "output_type": "stream",
     "text": [
      "🏃 View run Random Forest at: http://127.0.0.1:8080/#/experiments/821614312877706925/runs/c101ea2f9c224418ae0b6bca4ff2cdc0\n",
      "🧪 View experiment at: http://127.0.0.1:8080/#/experiments/821614312877706925\n"
     ]
    },
    {
     "name": "stderr",
     "output_type": "stream",
     "text": [
      "2025/06/30 21:34:26 WARNING mlflow.models.model: `artifact_path` is deprecated. Please use `name` instead.\n",
      "2025/06/30 21:34:31 WARNING mlflow.models.model: Model logged without a signature and input example. Please set `input_example` parameter when logging the model to auto infer the model signature.\n"
     ]
    },
    {
     "name": "stdout",
     "output_type": "stream",
     "text": [
      "🏃 View run Random Forest at: http://127.0.0.1:8080/#/experiments/821614312877706925/runs/2f2cf91853eb4d67b55359b72bc1854d\n",
      "🧪 View experiment at: http://127.0.0.1:8080/#/experiments/821614312877706925\n"
     ]
    },
    {
     "name": "stderr",
     "output_type": "stream",
     "text": [
      "2025/06/30 21:34:34 WARNING mlflow.models.model: `artifact_path` is deprecated. Please use `name` instead.\n",
      "2025/06/30 21:34:38 WARNING mlflow.models.model: Model logged without a signature and input example. Please set `input_example` parameter when logging the model to auto infer the model signature.\n"
     ]
    },
    {
     "name": "stdout",
     "output_type": "stream",
     "text": [
      "🏃 View run Random Forest at: http://127.0.0.1:8080/#/experiments/821614312877706925/runs/b4f2a4f4a62847a0923f354b5ce181e1\n",
      "🧪 View experiment at: http://127.0.0.1:8080/#/experiments/821614312877706925\n"
     ]
    },
    {
     "name": "stderr",
     "output_type": "stream",
     "text": [
      "2025/06/30 21:34:44 WARNING mlflow.models.model: `artifact_path` is deprecated. Please use `name` instead.\n",
      "2025/06/30 21:34:53 WARNING mlflow.models.model: Model logged without a signature and input example. Please set `input_example` parameter when logging the model to auto infer the model signature.\n"
     ]
    },
    {
     "name": "stdout",
     "output_type": "stream",
     "text": [
      "🏃 View run Random Forest at: http://127.0.0.1:8080/#/experiments/821614312877706925/runs/60166060594346f29a81fbd64b01ce0b\n",
      "🧪 View experiment at: http://127.0.0.1:8080/#/experiments/821614312877706925\n"
     ]
    },
    {
     "name": "stderr",
     "output_type": "stream",
     "text": [
      "2025/06/30 21:35:04 WARNING mlflow.models.model: `artifact_path` is deprecated. Please use `name` instead.\n",
      "2025/06/30 21:35:09 WARNING mlflow.models.model: Model logged without a signature and input example. Please set `input_example` parameter when logging the model to auto infer the model signature.\n"
     ]
    },
    {
     "name": "stdout",
     "output_type": "stream",
     "text": [
      "🏃 View run Random Forest at: http://127.0.0.1:8080/#/experiments/821614312877706925/runs/f041ece8708d4c4b883391476a0bf342\n",
      "🧪 View experiment at: http://127.0.0.1:8080/#/experiments/821614312877706925\n"
     ]
    },
    {
     "name": "stderr",
     "output_type": "stream",
     "text": [
      "2025/06/30 21:35:14 WARNING mlflow.models.model: `artifact_path` is deprecated. Please use `name` instead.\n",
      "2025/06/30 21:35:19 WARNING mlflow.models.model: Model logged without a signature and input example. Please set `input_example` parameter when logging the model to auto infer the model signature.\n"
     ]
    },
    {
     "name": "stdout",
     "output_type": "stream",
     "text": [
      "🏃 View run Random Forest at: http://127.0.0.1:8080/#/experiments/821614312877706925/runs/f2fcfcfd43354c17896d9a8da2cc7cbf\n",
      "🧪 View experiment at: http://127.0.0.1:8080/#/experiments/821614312877706925\n"
     ]
    },
    {
     "name": "stderr",
     "output_type": "stream",
     "text": [
      "2025/06/30 21:35:22 WARNING mlflow.models.model: `artifact_path` is deprecated. Please use `name` instead.\n",
      "2025/06/30 21:35:27 WARNING mlflow.models.model: Model logged without a signature and input example. Please set `input_example` parameter when logging the model to auto infer the model signature.\n"
     ]
    },
    {
     "name": "stdout",
     "output_type": "stream",
     "text": [
      "🏃 View run Random Forest at: http://127.0.0.1:8080/#/experiments/821614312877706925/runs/e925875ee13149efb7034bc4af534fa1\n",
      "🧪 View experiment at: http://127.0.0.1:8080/#/experiments/821614312877706925\n"
     ]
    },
    {
     "name": "stderr",
     "output_type": "stream",
     "text": [
      "2025/06/30 21:35:31 WARNING mlflow.models.model: `artifact_path` is deprecated. Please use `name` instead.\n",
      "2025/06/30 21:35:35 WARNING mlflow.models.model: Model logged without a signature and input example. Please set `input_example` parameter when logging the model to auto infer the model signature.\n"
     ]
    },
    {
     "name": "stdout",
     "output_type": "stream",
     "text": [
      "🏃 View run Random Forest at: http://127.0.0.1:8080/#/experiments/821614312877706925/runs/60dbbe75a1f74d07aca37c1d4147a4d7\n",
      "🧪 View experiment at: http://127.0.0.1:8080/#/experiments/821614312877706925\n"
     ]
    },
    {
     "name": "stderr",
     "output_type": "stream",
     "text": [
      "2025/06/30 21:35:40 WARNING mlflow.models.model: `artifact_path` is deprecated. Please use `name` instead.\n",
      "2025/06/30 21:35:44 WARNING mlflow.models.model: Model logged without a signature and input example. Please set `input_example` parameter when logging the model to auto infer the model signature.\n"
     ]
    },
    {
     "name": "stdout",
     "output_type": "stream",
     "text": [
      "🏃 View run Random Forest at: http://127.0.0.1:8080/#/experiments/821614312877706925/runs/834d17411a3a48c5a7511b3776b85689\n",
      "🧪 View experiment at: http://127.0.0.1:8080/#/experiments/821614312877706925\n"
     ]
    },
    {
     "name": "stderr",
     "output_type": "stream",
     "text": [
      "2025/06/30 21:35:47 WARNING mlflow.models.model: `artifact_path` is deprecated. Please use `name` instead.\n",
      "2025/06/30 21:35:52 WARNING mlflow.models.model: Model logged without a signature and input example. Please set `input_example` parameter when logging the model to auto infer the model signature.\n"
     ]
    },
    {
     "name": "stdout",
     "output_type": "stream",
     "text": [
      "🏃 View run Random Forest at: http://127.0.0.1:8080/#/experiments/821614312877706925/runs/4ed651433e32413482d43f603254ed79\n",
      "🧪 View experiment at: http://127.0.0.1:8080/#/experiments/821614312877706925\n"
     ]
    },
    {
     "name": "stderr",
     "output_type": "stream",
     "text": [
      "2025/06/30 21:35:56 WARNING mlflow.models.model: `artifact_path` is deprecated. Please use `name` instead.\n",
      "2025/06/30 21:36:00 WARNING mlflow.models.model: Model logged without a signature and input example. Please set `input_example` parameter when logging the model to auto infer the model signature.\n"
     ]
    },
    {
     "name": "stdout",
     "output_type": "stream",
     "text": [
      "🏃 View run Random Forest at: http://127.0.0.1:8080/#/experiments/821614312877706925/runs/b240afc34de84d66b3bb47dcc763cef8\n",
      "🧪 View experiment at: http://127.0.0.1:8080/#/experiments/821614312877706925\n"
     ]
    },
    {
     "name": "stderr",
     "output_type": "stream",
     "text": [
      "2025/06/30 21:36:02 WARNING mlflow.models.model: `artifact_path` is deprecated. Please use `name` instead.\n",
      "2025/06/30 21:36:07 WARNING mlflow.models.model: Model logged without a signature and input example. Please set `input_example` parameter when logging the model to auto infer the model signature.\n"
     ]
    },
    {
     "name": "stdout",
     "output_type": "stream",
     "text": [
      "🏃 View run Random Forest at: http://127.0.0.1:8080/#/experiments/821614312877706925/runs/e27c28aad585400689080fd878ea180e\n",
      "🧪 View experiment at: http://127.0.0.1:8080/#/experiments/821614312877706925\n"
     ]
    },
    {
     "name": "stderr",
     "output_type": "stream",
     "text": [
      "2025/06/30 21:36:11 WARNING mlflow.models.model: `artifact_path` is deprecated. Please use `name` instead.\n",
      "2025/06/30 21:36:16 WARNING mlflow.models.model: Model logged without a signature and input example. Please set `input_example` parameter when logging the model to auto infer the model signature.\n"
     ]
    },
    {
     "name": "stdout",
     "output_type": "stream",
     "text": [
      "🏃 View run Random Forest at: http://127.0.0.1:8080/#/experiments/821614312877706925/runs/f2239fcf671444c395b7416d3bccfefe\n",
      "🧪 View experiment at: http://127.0.0.1:8080/#/experiments/821614312877706925\n"
     ]
    },
    {
     "name": "stderr",
     "output_type": "stream",
     "text": [
      "2025/06/30 21:36:18 WARNING mlflow.models.model: `artifact_path` is deprecated. Please use `name` instead.\n",
      "2025/06/30 21:36:23 WARNING mlflow.models.model: Model logged without a signature and input example. Please set `input_example` parameter when logging the model to auto infer the model signature.\n"
     ]
    },
    {
     "name": "stdout",
     "output_type": "stream",
     "text": [
      "🏃 View run Random Forest at: http://127.0.0.1:8080/#/experiments/821614312877706925/runs/9720e796827d4560a5690d30cf82c73d\n",
      "🧪 View experiment at: http://127.0.0.1:8080/#/experiments/821614312877706925\n"
     ]
    },
    {
     "name": "stderr",
     "output_type": "stream",
     "text": [
      "2025/06/30 21:36:26 WARNING mlflow.models.model: `artifact_path` is deprecated. Please use `name` instead.\n",
      "2025/06/30 21:36:31 WARNING mlflow.models.model: Model logged without a signature and input example. Please set `input_example` parameter when logging the model to auto infer the model signature.\n"
     ]
    },
    {
     "name": "stdout",
     "output_type": "stream",
     "text": [
      "🏃 View run Random Forest at: http://127.0.0.1:8080/#/experiments/821614312877706925/runs/97ba740344da41d79c34e8567b13a53f\n",
      "🧪 View experiment at: http://127.0.0.1:8080/#/experiments/821614312877706925\n"
     ]
    },
    {
     "name": "stderr",
     "output_type": "stream",
     "text": [
      "2025/06/30 21:36:33 WARNING mlflow.models.model: `artifact_path` is deprecated. Please use `name` instead.\n",
      "2025/06/30 21:36:38 WARNING mlflow.models.model: Model logged without a signature and input example. Please set `input_example` parameter when logging the model to auto infer the model signature.\n"
     ]
    },
    {
     "name": "stdout",
     "output_type": "stream",
     "text": [
      "🏃 View run Random Forest at: http://127.0.0.1:8080/#/experiments/821614312877706925/runs/9f740ede7383475c94d907b67b2679da\n",
      "🧪 View experiment at: http://127.0.0.1:8080/#/experiments/821614312877706925\n"
     ]
    },
    {
     "name": "stderr",
     "output_type": "stream",
     "text": [
      "2025/06/30 21:36:40 WARNING mlflow.models.model: `artifact_path` is deprecated. Please use `name` instead.\n",
      "2025/06/30 21:36:45 WARNING mlflow.models.model: Model logged without a signature and input example. Please set `input_example` parameter when logging the model to auto infer the model signature.\n"
     ]
    },
    {
     "name": "stdout",
     "output_type": "stream",
     "text": [
      "🏃 View run Random Forest at: http://127.0.0.1:8080/#/experiments/821614312877706925/runs/1629dbc8ec6047b3bc19b3338d2be8d9\n",
      "🧪 View experiment at: http://127.0.0.1:8080/#/experiments/821614312877706925\n"
     ]
    },
    {
     "name": "stderr",
     "output_type": "stream",
     "text": [
      "2025/06/30 21:36:47 WARNING mlflow.models.model: `artifact_path` is deprecated. Please use `name` instead.\n",
      "2025/06/30 21:36:52 WARNING mlflow.models.model: Model logged without a signature and input example. Please set `input_example` parameter when logging the model to auto infer the model signature.\n"
     ]
    },
    {
     "name": "stdout",
     "output_type": "stream",
     "text": [
      "🏃 View run Random Forest at: http://127.0.0.1:8080/#/experiments/821614312877706925/runs/7458389f3e5140eb9a05328b89ef2d98\n",
      "🧪 View experiment at: http://127.0.0.1:8080/#/experiments/821614312877706925\n"
     ]
    },
    {
     "name": "stderr",
     "output_type": "stream",
     "text": [
      "2025/06/30 21:36:55 WARNING mlflow.models.model: `artifact_path` is deprecated. Please use `name` instead.\n",
      "2025/06/30 21:37:00 WARNING mlflow.models.model: Model logged without a signature and input example. Please set `input_example` parameter when logging the model to auto infer the model signature.\n"
     ]
    },
    {
     "name": "stdout",
     "output_type": "stream",
     "text": [
      "🏃 View run Random Forest at: http://127.0.0.1:8080/#/experiments/821614312877706925/runs/12b9f10482dd441e8e55c8dd81b2fd9d\n",
      "🧪 View experiment at: http://127.0.0.1:8080/#/experiments/821614312877706925\n"
     ]
    },
    {
     "name": "stderr",
     "output_type": "stream",
     "text": [
      "2025/06/30 21:37:03 WARNING mlflow.models.model: `artifact_path` is deprecated. Please use `name` instead.\n",
      "2025/06/30 21:37:08 WARNING mlflow.models.model: Model logged without a signature and input example. Please set `input_example` parameter when logging the model to auto infer the model signature.\n"
     ]
    },
    {
     "name": "stdout",
     "output_type": "stream",
     "text": [
      "🏃 View run Random Forest at: http://127.0.0.1:8080/#/experiments/821614312877706925/runs/5c887ed2e85e4e83af2ef4cd5286f2e3\n",
      "🧪 View experiment at: http://127.0.0.1:8080/#/experiments/821614312877706925\n"
     ]
    },
    {
     "name": "stderr",
     "output_type": "stream",
     "text": [
      "2025/06/30 21:37:11 WARNING mlflow.models.model: `artifact_path` is deprecated. Please use `name` instead.\n",
      "2025/06/30 21:37:17 WARNING mlflow.models.model: Model logged without a signature and input example. Please set `input_example` parameter when logging the model to auto infer the model signature.\n"
     ]
    },
    {
     "name": "stdout",
     "output_type": "stream",
     "text": [
      "🏃 View run Random Forest at: http://127.0.0.1:8080/#/experiments/821614312877706925/runs/01ba47586ce541a48975ccb7957666aa\n",
      "🧪 View experiment at: http://127.0.0.1:8080/#/experiments/821614312877706925\n"
     ]
    },
    {
     "name": "stderr",
     "output_type": "stream",
     "text": [
      "2025/06/30 21:37:22 WARNING mlflow.models.model: `artifact_path` is deprecated. Please use `name` instead.\n",
      "2025/06/30 21:37:32 WARNING mlflow.models.model: Model logged without a signature and input example. Please set `input_example` parameter when logging the model to auto infer the model signature.\n"
     ]
    },
    {
     "name": "stdout",
     "output_type": "stream",
     "text": [
      "🏃 View run Random Forest at: http://127.0.0.1:8080/#/experiments/821614312877706925/runs/9ddf99bb344a4d068b55a58f42a33020\n",
      "🧪 View experiment at: http://127.0.0.1:8080/#/experiments/821614312877706925\n"
     ]
    },
    {
     "name": "stderr",
     "output_type": "stream",
     "text": [
      "2025/06/30 21:37:40 WARNING mlflow.models.model: `artifact_path` is deprecated. Please use `name` instead.\n",
      "2025/06/30 21:37:53 WARNING mlflow.models.model: Model logged without a signature and input example. Please set `input_example` parameter when logging the model to auto infer the model signature.\n"
     ]
    },
    {
     "name": "stdout",
     "output_type": "stream",
     "text": [
      "🏃 View run Random Forest at: http://127.0.0.1:8080/#/experiments/821614312877706925/runs/63a8e0da4a9a4fa099fcf4dabd35cf55\n",
      "🧪 View experiment at: http://127.0.0.1:8080/#/experiments/821614312877706925\n"
     ]
    },
    {
     "name": "stderr",
     "output_type": "stream",
     "text": [
      "2025/06/30 21:37:57 WARNING mlflow.models.model: `artifact_path` is deprecated. Please use `name` instead.\n",
      "2025/06/30 21:38:04 WARNING mlflow.models.model: Model logged without a signature and input example. Please set `input_example` parameter when logging the model to auto infer the model signature.\n"
     ]
    },
    {
     "name": "stdout",
     "output_type": "stream",
     "text": [
      "🏃 View run Random Forest at: http://127.0.0.1:8080/#/experiments/821614312877706925/runs/4857d8a046d84c1e8c9051a335f33749\n",
      "🧪 View experiment at: http://127.0.0.1:8080/#/experiments/821614312877706925\n"
     ]
    },
    {
     "name": "stderr",
     "output_type": "stream",
     "text": [
      "2025/06/30 21:38:08 WARNING mlflow.models.model: `artifact_path` is deprecated. Please use `name` instead.\n",
      "2025/06/30 21:38:14 WARNING mlflow.models.model: Model logged without a signature and input example. Please set `input_example` parameter when logging the model to auto infer the model signature.\n"
     ]
    },
    {
     "name": "stdout",
     "output_type": "stream",
     "text": [
      "🏃 View run Random Forest at: http://127.0.0.1:8080/#/experiments/821614312877706925/runs/60884ae05bed45ed8b222a15f79117c6\n",
      "🧪 View experiment at: http://127.0.0.1:8080/#/experiments/821614312877706925\n"
     ]
    },
    {
     "name": "stderr",
     "output_type": "stream",
     "text": [
      "2025/06/30 21:38:18 WARNING mlflow.models.model: `artifact_path` is deprecated. Please use `name` instead.\n",
      "2025/06/30 21:38:25 WARNING mlflow.models.model: Model logged without a signature and input example. Please set `input_example` parameter when logging the model to auto infer the model signature.\n"
     ]
    },
    {
     "name": "stdout",
     "output_type": "stream",
     "text": [
      "🏃 View run Random Forest at: http://127.0.0.1:8080/#/experiments/821614312877706925/runs/7285629c75484c81b4868ab00764a6b6\n",
      "🧪 View experiment at: http://127.0.0.1:8080/#/experiments/821614312877706925\n"
     ]
    }
   ],
   "source": [
    "param_space = {\n",
    "    'n_estimators': [100, 200],\n",
    "    'max_depth': [None, 10, 20],\n",
    "    'min_samples_split': [2, 5],\n",
    "    'min_samples_leaf': [1, 2],\n",
    "    'class_weight': [None, 'balanced']\n",
    "}\n",
    "\n",
    "for n_estimators, max_depth, min_samples_split, min_samples_leaf, class_weight in product(\n",
    "    param_space['n_estimators'],\n",
    "    param_space['max_depth'],\n",
    "    param_space['min_samples_split'],\n",
    "    param_space['min_samples_leaf'],\n",
    "    param_space['class_weight']\n",
    "    ):\n",
    "\n",
    "    model = RandomForestClassifier(n_estimators=n_estimators,\n",
    "                                   max_depth=max_depth,\n",
    "                                   min_samples_split=min_samples_split,\n",
    "                                   min_samples_leaf=min_samples_leaf,\n",
    "                                   max_features='sqrt',\n",
    "                                   class_weight=class_weight,\n",
    "                                   random_state=42)\n",
    "    \n",
    "    model.fit(X_train, y_train)\n",
    "\n",
    "    y_pred = model.predict(X_test)\n",
    "\n",
    "    # ✅ Compute metrics\n",
    "    metrics = {\n",
    "        'accuracy': accuracy_score(y_test, y_pred),\n",
    "        'precision': precision_score(y_test, y_pred),\n",
    "        'recall': recall_score(y_test, y_pred),\n",
    "        'f1_score': f1_score(y_test, y_pred)\n",
    "    }\n",
    "\n",
    "    # ✅ Log each run with its actual params\n",
    "    with mlflow.start_run(run_name=\"Random Forest\") as run:\n",
    "        mlflow.log_param(\"penalty\", penalty)\n",
    "        mlflow.log_param(\"C\", C)\n",
    "        mlflow.log_param(\"solver\", solver)\n",
    "        mlflow.log_param(\"class_weight\", class_weight)\n",
    "\n",
    "        mlflow.log_metrics(metrics)\n",
    "        mlflow.sklearn.log_model(model, artifact_path)\n",
    "\n",
    "    "
   ]
  }
 ],
 "metadata": {
  "kernelspec": {
   "display_name": "venv",
   "language": "python",
   "name": "python3"
  },
  "language_info": {
   "codemirror_mode": {
    "name": "ipython",
    "version": 3
   },
   "file_extension": ".py",
   "mimetype": "text/x-python",
   "name": "python",
   "nbconvert_exporter": "python",
   "pygments_lexer": "ipython3",
   "version": "3.13.3"
  }
 },
 "nbformat": 4,
 "nbformat_minor": 5
}
