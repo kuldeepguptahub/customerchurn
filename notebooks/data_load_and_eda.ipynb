{
 "cells": [
  {
   "cell_type": "code",
   "execution_count": 1,
   "id": "ddcc6760",
   "metadata": {},
   "outputs": [],
   "source": [
    "import pandas as pd\n",
    "import numpy as np\n",
    "import matplotlib.pyplot as plt\n",
    "import seaborn as sns\n",
    "import sklearn\n",
    "\n",
    "%matplotlib inline\n",
    "sns.set(style=\"whitegrid\")"
   ]
  },
  {
   "cell_type": "markdown",
   "id": "9a52b909",
   "metadata": {},
   "source": [
    "### Reading Data"
   ]
  },
  {
   "cell_type": "code",
   "execution_count": 2,
   "id": "732a39a9",
   "metadata": {},
   "outputs": [
    {
     "data": {
      "text/html": [
       "<div>\n",
       "<style scoped>\n",
       "    .dataframe tbody tr th:only-of-type {\n",
       "        vertical-align: middle;\n",
       "    }\n",
       "\n",
       "    .dataframe tbody tr th {\n",
       "        vertical-align: top;\n",
       "    }\n",
       "\n",
       "    .dataframe thead th {\n",
       "        text-align: right;\n",
       "    }\n",
       "</style>\n",
       "<table border=\"1\" class=\"dataframe\">\n",
       "  <thead>\n",
       "    <tr style=\"text-align: right;\">\n",
       "      <th></th>\n",
       "      <th>CUSTOMERID</th>\n",
       "      <th>GENDER</th>\n",
       "      <th>SENIORCITIZEN</th>\n",
       "      <th>PARTNER</th>\n",
       "      <th>DEPENDENTS</th>\n",
       "      <th>TENURE</th>\n",
       "      <th>PHONESERVICE</th>\n",
       "      <th>MULTIPLELINES</th>\n",
       "      <th>INTERNETSERVICE</th>\n",
       "      <th>ONLINESECURITY</th>\n",
       "      <th>...</th>\n",
       "      <th>DEVICEPROTECTION</th>\n",
       "      <th>TECHSUPPORT</th>\n",
       "      <th>STREAMINGTV</th>\n",
       "      <th>STREAMINGMOVIES</th>\n",
       "      <th>CONTRACT</th>\n",
       "      <th>PAPERLESSBILLING</th>\n",
       "      <th>PAYMENTMETHOD</th>\n",
       "      <th>MONTHLYCHARGES</th>\n",
       "      <th>TOTALCHARGES</th>\n",
       "      <th>CHURN</th>\n",
       "    </tr>\n",
       "  </thead>\n",
       "  <tbody>\n",
       "    <tr>\n",
       "      <th>0</th>\n",
       "      <td>7590-VHVEG</td>\n",
       "      <td>Female</td>\n",
       "      <td>0</td>\n",
       "      <td>Yes</td>\n",
       "      <td>No</td>\n",
       "      <td>1</td>\n",
       "      <td>No</td>\n",
       "      <td>No phone service</td>\n",
       "      <td>DSL</td>\n",
       "      <td>No</td>\n",
       "      <td>...</td>\n",
       "      <td>No</td>\n",
       "      <td>No</td>\n",
       "      <td>No</td>\n",
       "      <td>No</td>\n",
       "      <td>Month-to-month</td>\n",
       "      <td>Yes</td>\n",
       "      <td>Electronic check</td>\n",
       "      <td>29.85</td>\n",
       "      <td>29.85</td>\n",
       "      <td>No</td>\n",
       "    </tr>\n",
       "    <tr>\n",
       "      <th>1</th>\n",
       "      <td>5575-GNVDE</td>\n",
       "      <td>Male</td>\n",
       "      <td>0</td>\n",
       "      <td>No</td>\n",
       "      <td>No</td>\n",
       "      <td>34</td>\n",
       "      <td>Yes</td>\n",
       "      <td>No</td>\n",
       "      <td>DSL</td>\n",
       "      <td>Yes</td>\n",
       "      <td>...</td>\n",
       "      <td>Yes</td>\n",
       "      <td>No</td>\n",
       "      <td>No</td>\n",
       "      <td>No</td>\n",
       "      <td>One year</td>\n",
       "      <td>No</td>\n",
       "      <td>Mailed check</td>\n",
       "      <td>56.95</td>\n",
       "      <td>1889.5</td>\n",
       "      <td>No</td>\n",
       "    </tr>\n",
       "    <tr>\n",
       "      <th>2</th>\n",
       "      <td>3668-QPYBK</td>\n",
       "      <td>Male</td>\n",
       "      <td>0</td>\n",
       "      <td>No</td>\n",
       "      <td>No</td>\n",
       "      <td>2</td>\n",
       "      <td>Yes</td>\n",
       "      <td>No</td>\n",
       "      <td>DSL</td>\n",
       "      <td>Yes</td>\n",
       "      <td>...</td>\n",
       "      <td>No</td>\n",
       "      <td>No</td>\n",
       "      <td>No</td>\n",
       "      <td>No</td>\n",
       "      <td>Month-to-month</td>\n",
       "      <td>Yes</td>\n",
       "      <td>Mailed check</td>\n",
       "      <td>53.85</td>\n",
       "      <td>108.15</td>\n",
       "      <td>Yes</td>\n",
       "    </tr>\n",
       "    <tr>\n",
       "      <th>3</th>\n",
       "      <td>7795-CFOCW</td>\n",
       "      <td>Male</td>\n",
       "      <td>0</td>\n",
       "      <td>No</td>\n",
       "      <td>No</td>\n",
       "      <td>45</td>\n",
       "      <td>No</td>\n",
       "      <td>No phone service</td>\n",
       "      <td>DSL</td>\n",
       "      <td>Yes</td>\n",
       "      <td>...</td>\n",
       "      <td>Yes</td>\n",
       "      <td>Yes</td>\n",
       "      <td>No</td>\n",
       "      <td>No</td>\n",
       "      <td>One year</td>\n",
       "      <td>No</td>\n",
       "      <td>Bank transfer (automatic)</td>\n",
       "      <td>42.30</td>\n",
       "      <td>1840.75</td>\n",
       "      <td>No</td>\n",
       "    </tr>\n",
       "    <tr>\n",
       "      <th>4</th>\n",
       "      <td>9237-HQITU</td>\n",
       "      <td>Female</td>\n",
       "      <td>0</td>\n",
       "      <td>No</td>\n",
       "      <td>No</td>\n",
       "      <td>2</td>\n",
       "      <td>Yes</td>\n",
       "      <td>No</td>\n",
       "      <td>Fiber optic</td>\n",
       "      <td>No</td>\n",
       "      <td>...</td>\n",
       "      <td>No</td>\n",
       "      <td>No</td>\n",
       "      <td>No</td>\n",
       "      <td>No</td>\n",
       "      <td>Month-to-month</td>\n",
       "      <td>Yes</td>\n",
       "      <td>Electronic check</td>\n",
       "      <td>70.70</td>\n",
       "      <td>151.65</td>\n",
       "      <td>Yes</td>\n",
       "    </tr>\n",
       "  </tbody>\n",
       "</table>\n",
       "<p>5 rows × 21 columns</p>\n",
       "</div>"
      ],
      "text/plain": [
       "   CUSTOMERID  GENDER  SENIORCITIZEN PARTNER DEPENDENTS  TENURE PHONESERVICE  \\\n",
       "0  7590-VHVEG  Female              0     Yes         No       1           No   \n",
       "1  5575-GNVDE    Male              0      No         No      34          Yes   \n",
       "2  3668-QPYBK    Male              0      No         No       2          Yes   \n",
       "3  7795-CFOCW    Male              0      No         No      45           No   \n",
       "4  9237-HQITU  Female              0      No         No       2          Yes   \n",
       "\n",
       "      MULTIPLELINES INTERNETSERVICE ONLINESECURITY  ... DEVICEPROTECTION  \\\n",
       "0  No phone service             DSL             No  ...               No   \n",
       "1                No             DSL            Yes  ...              Yes   \n",
       "2                No             DSL            Yes  ...               No   \n",
       "3  No phone service             DSL            Yes  ...              Yes   \n",
       "4                No     Fiber optic             No  ...               No   \n",
       "\n",
       "  TECHSUPPORT STREAMINGTV STREAMINGMOVIES        CONTRACT PAPERLESSBILLING  \\\n",
       "0          No          No              No  Month-to-month              Yes   \n",
       "1          No          No              No        One year               No   \n",
       "2          No          No              No  Month-to-month              Yes   \n",
       "3         Yes          No              No        One year               No   \n",
       "4          No          No              No  Month-to-month              Yes   \n",
       "\n",
       "               PAYMENTMETHOD MONTHLYCHARGES  TOTALCHARGES CHURN  \n",
       "0           Electronic check          29.85         29.85    No  \n",
       "1               Mailed check          56.95        1889.5    No  \n",
       "2               Mailed check          53.85        108.15   Yes  \n",
       "3  Bank transfer (automatic)          42.30       1840.75    No  \n",
       "4           Electronic check          70.70        151.65   Yes  \n",
       "\n",
       "[5 rows x 21 columns]"
      ]
     },
     "execution_count": 2,
     "metadata": {},
     "output_type": "execute_result"
    }
   ],
   "source": [
    "df = pd.read_csv('../data/raw/telco.csv')\n",
    "df.columns = df.columns.str.upper() # convert the columns to uppercase\n",
    "df.head()"
   ]
  },
  {
   "cell_type": "code",
   "execution_count": 3,
   "id": "cdd89bb7",
   "metadata": {},
   "outputs": [],
   "source": [
    "## drop customer ID\n",
    "\n",
    "df.drop(['CUSTOMERID'], axis=1, inplace=True)\n",
    "\n",
    "## change date type of TOTALCHARGES\n",
    "\n",
    "df['TOTALCHARGES'] = pd.to_numeric(df['TOTALCHARGES'], errors='coerce')"
   ]
  },
  {
   "cell_type": "markdown",
   "id": "66ee554c",
   "metadata": {},
   "source": [
    "### Data at a glance"
   ]
  },
  {
   "cell_type": "code",
   "execution_count": 4,
   "id": "5089f529",
   "metadata": {},
   "outputs": [
    {
     "name": "stdout",
     "output_type": "stream",
     "text": [
      "<class 'pandas.core.frame.DataFrame'>\n",
      "RangeIndex: 7043 entries, 0 to 7042\n",
      "Data columns (total 20 columns):\n",
      " #   Column            Non-Null Count  Dtype  \n",
      "---  ------            --------------  -----  \n",
      " 0   GENDER            7043 non-null   object \n",
      " 1   SENIORCITIZEN     7043 non-null   int64  \n",
      " 2   PARTNER           7043 non-null   object \n",
      " 3   DEPENDENTS        7043 non-null   object \n",
      " 4   TENURE            7043 non-null   int64  \n",
      " 5   PHONESERVICE      7043 non-null   object \n",
      " 6   MULTIPLELINES     7043 non-null   object \n",
      " 7   INTERNETSERVICE   7043 non-null   object \n",
      " 8   ONLINESECURITY    7043 non-null   object \n",
      " 9   ONLINEBACKUP      7043 non-null   object \n",
      " 10  DEVICEPROTECTION  7043 non-null   object \n",
      " 11  TECHSUPPORT       7043 non-null   object \n",
      " 12  STREAMINGTV       7043 non-null   object \n",
      " 13  STREAMINGMOVIES   7043 non-null   object \n",
      " 14  CONTRACT          7043 non-null   object \n",
      " 15  PAPERLESSBILLING  7043 non-null   object \n",
      " 16  PAYMENTMETHOD     7043 non-null   object \n",
      " 17  MONTHLYCHARGES    7043 non-null   float64\n",
      " 18  TOTALCHARGES      7032 non-null   float64\n",
      " 19  CHURN             7043 non-null   object \n",
      "dtypes: float64(2), int64(2), object(16)\n",
      "memory usage: 1.1+ MB\n"
     ]
    }
   ],
   "source": [
    "df.info()"
   ]
  },
  {
   "cell_type": "code",
   "execution_count": 5,
   "id": "bf4dfde3",
   "metadata": {},
   "outputs": [],
   "source": [
    "df = df.dropna()"
   ]
  },
  {
   "cell_type": "code",
   "execution_count": 6,
   "id": "797e88ff",
   "metadata": {},
   "outputs": [],
   "source": [
    "df['SENIORCITIZEN'] = df['SENIORCITIZEN'].map({1: 'Yes', 0: 'No'})"
   ]
  },
  {
   "cell_type": "code",
   "execution_count": 7,
   "id": "3b882ce5",
   "metadata": {},
   "outputs": [
    {
     "data": {
      "text/plain": [
       "['GENDER',\n",
       " 'SENIORCITIZEN',\n",
       " 'PARTNER',\n",
       " 'DEPENDENTS',\n",
       " 'TENURE',\n",
       " 'PHONESERVICE',\n",
       " 'MULTIPLELINES',\n",
       " 'INTERNETSERVICE',\n",
       " 'ONLINESECURITY',\n",
       " 'ONLINEBACKUP',\n",
       " 'DEVICEPROTECTION',\n",
       " 'TECHSUPPORT',\n",
       " 'STREAMINGTV',\n",
       " 'STREAMINGMOVIES',\n",
       " 'CONTRACT',\n",
       " 'PAPERLESSBILLING',\n",
       " 'PAYMENTMETHOD',\n",
       " 'MONTHLYCHARGES',\n",
       " 'TOTALCHARGES',\n",
       " 'CHURN']"
      ]
     },
     "execution_count": 7,
     "metadata": {},
     "output_type": "execute_result"
    }
   ],
   "source": [
    "cols = df.columns.to_list()\n",
    "cols"
   ]
  },
  {
   "cell_type": "code",
   "execution_count": 8,
   "id": "17e58fe1",
   "metadata": {},
   "outputs": [],
   "source": [
    "cat_cols = [col for col in cols if df[col].dtype == 'object']\n",
    "num_cols = [col for col in cols if df[col].dtype != 'object']"
   ]
  },
  {
   "cell_type": "code",
   "execution_count": 9,
   "id": "752d40c5",
   "metadata": {},
   "outputs": [
    {
     "name": "stdout",
     "output_type": "stream",
     "text": [
      "2 Unique Values in GENDER:\n",
      "['Female' 'Male']\n",
      "=======================================\n",
      "2 Unique Values in SENIORCITIZEN:\n",
      "['No' 'Yes']\n",
      "=======================================\n",
      "2 Unique Values in PARTNER:\n",
      "['Yes' 'No']\n",
      "=======================================\n",
      "2 Unique Values in DEPENDENTS:\n",
      "['No' 'Yes']\n",
      "=======================================\n",
      "72 Unique Values in TENURE:\n",
      "[ 1 34  2 45  8 22 10 28 62 13 16 58 49 25 69 52 71 21 12 30 47 72 17 27\n",
      "  5 46 11 70 63 43 15 60 18 66  9  3 31 50 64 56  7 42 35 48 29 65 38 68\n",
      " 32 55 37 36 41  6  4 33 67 23 57 61 14 20 53 40 59 24 44 19 54 51 26 39]\n",
      "=======================================\n",
      "2 Unique Values in PHONESERVICE:\n",
      "['No' 'Yes']\n",
      "=======================================\n",
      "3 Unique Values in MULTIPLELINES:\n",
      "['No phone service' 'No' 'Yes']\n",
      "=======================================\n",
      "3 Unique Values in INTERNETSERVICE:\n",
      "['DSL' 'Fiber optic' 'No']\n",
      "=======================================\n",
      "3 Unique Values in ONLINESECURITY:\n",
      "['No' 'Yes' 'No internet service']\n",
      "=======================================\n",
      "3 Unique Values in ONLINEBACKUP:\n",
      "['Yes' 'No' 'No internet service']\n",
      "=======================================\n",
      "3 Unique Values in DEVICEPROTECTION:\n",
      "['No' 'Yes' 'No internet service']\n",
      "=======================================\n",
      "3 Unique Values in TECHSUPPORT:\n",
      "['No' 'Yes' 'No internet service']\n",
      "=======================================\n",
      "3 Unique Values in STREAMINGTV:\n",
      "['No' 'Yes' 'No internet service']\n",
      "=======================================\n",
      "3 Unique Values in STREAMINGMOVIES:\n",
      "['No' 'Yes' 'No internet service']\n",
      "=======================================\n",
      "3 Unique Values in CONTRACT:\n",
      "['Month-to-month' 'One year' 'Two year']\n",
      "=======================================\n",
      "2 Unique Values in PAPERLESSBILLING:\n",
      "['Yes' 'No']\n",
      "=======================================\n",
      "4 Unique Values in PAYMENTMETHOD:\n",
      "['Electronic check' 'Mailed check' 'Bank transfer (automatic)'\n",
      " 'Credit card (automatic)']\n",
      "=======================================\n",
      "1584 Unique Values in MONTHLYCHARGES:\n",
      "[29.85 56.95 53.85 ... 63.1  44.2  78.7 ]\n",
      "=======================================\n",
      "6530 Unique Values in TOTALCHARGES:\n",
      "[  29.85 1889.5   108.15 ...  346.45  306.6  6844.5 ]\n",
      "=======================================\n",
      "2 Unique Values in CHURN:\n",
      "['No' 'Yes']\n",
      "=======================================\n"
     ]
    }
   ],
   "source": [
    "for col in df.columns:\n",
    "    print(f'{len(df[col].unique())} Unique Values in {col}:')\n",
    "    print(df[col].unique())\n",
    "    print('=======================================')"
   ]
  },
  {
   "cell_type": "code",
   "execution_count": 10,
   "id": "8cc94bc3",
   "metadata": {},
   "outputs": [
    {
     "data": {
      "text/html": [
       "<div>\n",
       "<style scoped>\n",
       "    .dataframe tbody tr th:only-of-type {\n",
       "        vertical-align: middle;\n",
       "    }\n",
       "\n",
       "    .dataframe tbody tr th {\n",
       "        vertical-align: top;\n",
       "    }\n",
       "\n",
       "    .dataframe thead th {\n",
       "        text-align: right;\n",
       "    }\n",
       "</style>\n",
       "<table border=\"1\" class=\"dataframe\">\n",
       "  <thead>\n",
       "    <tr style=\"text-align: right;\">\n",
       "      <th></th>\n",
       "      <th>TENURE</th>\n",
       "      <th>MONTHLYCHARGES</th>\n",
       "      <th>TOTALCHARGES</th>\n",
       "    </tr>\n",
       "  </thead>\n",
       "  <tbody>\n",
       "    <tr>\n",
       "      <th>count</th>\n",
       "      <td>7032.000000</td>\n",
       "      <td>7032.000000</td>\n",
       "      <td>7032.000000</td>\n",
       "    </tr>\n",
       "    <tr>\n",
       "      <th>mean</th>\n",
       "      <td>32.421786</td>\n",
       "      <td>64.798208</td>\n",
       "      <td>2283.300441</td>\n",
       "    </tr>\n",
       "    <tr>\n",
       "      <th>std</th>\n",
       "      <td>24.545260</td>\n",
       "      <td>30.085974</td>\n",
       "      <td>2266.771362</td>\n",
       "    </tr>\n",
       "    <tr>\n",
       "      <th>min</th>\n",
       "      <td>1.000000</td>\n",
       "      <td>18.250000</td>\n",
       "      <td>18.800000</td>\n",
       "    </tr>\n",
       "    <tr>\n",
       "      <th>25%</th>\n",
       "      <td>9.000000</td>\n",
       "      <td>35.587500</td>\n",
       "      <td>401.450000</td>\n",
       "    </tr>\n",
       "    <tr>\n",
       "      <th>50%</th>\n",
       "      <td>29.000000</td>\n",
       "      <td>70.350000</td>\n",
       "      <td>1397.475000</td>\n",
       "    </tr>\n",
       "    <tr>\n",
       "      <th>75%</th>\n",
       "      <td>55.000000</td>\n",
       "      <td>89.862500</td>\n",
       "      <td>3794.737500</td>\n",
       "    </tr>\n",
       "    <tr>\n",
       "      <th>max</th>\n",
       "      <td>72.000000</td>\n",
       "      <td>118.750000</td>\n",
       "      <td>8684.800000</td>\n",
       "    </tr>\n",
       "  </tbody>\n",
       "</table>\n",
       "</div>"
      ],
      "text/plain": [
       "            TENURE  MONTHLYCHARGES  TOTALCHARGES\n",
       "count  7032.000000     7032.000000   7032.000000\n",
       "mean     32.421786       64.798208   2283.300441\n",
       "std      24.545260       30.085974   2266.771362\n",
       "min       1.000000       18.250000     18.800000\n",
       "25%       9.000000       35.587500    401.450000\n",
       "50%      29.000000       70.350000   1397.475000\n",
       "75%      55.000000       89.862500   3794.737500\n",
       "max      72.000000      118.750000   8684.800000"
      ]
     },
     "execution_count": 10,
     "metadata": {},
     "output_type": "execute_result"
    }
   ],
   "source": [
    "df.describe()"
   ]
  },
  {
   "cell_type": "code",
   "execution_count": 11,
   "id": "d939ce98",
   "metadata": {},
   "outputs": [
    {
     "data": {
      "text/plain": [
       "GENDER              0\n",
       "SENIORCITIZEN       0\n",
       "PARTNER             0\n",
       "DEPENDENTS          0\n",
       "TENURE              0\n",
       "PHONESERVICE        0\n",
       "MULTIPLELINES       0\n",
       "INTERNETSERVICE     0\n",
       "ONLINESECURITY      0\n",
       "ONLINEBACKUP        0\n",
       "DEVICEPROTECTION    0\n",
       "TECHSUPPORT         0\n",
       "STREAMINGTV         0\n",
       "STREAMINGMOVIES     0\n",
       "CONTRACT            0\n",
       "PAPERLESSBILLING    0\n",
       "PAYMENTMETHOD       0\n",
       "MONTHLYCHARGES      0\n",
       "TOTALCHARGES        0\n",
       "CHURN               0\n",
       "dtype: int64"
      ]
     },
     "execution_count": 11,
     "metadata": {},
     "output_type": "execute_result"
    }
   ],
   "source": [
    "df.isna().sum()"
   ]
  },
  {
   "cell_type": "code",
   "execution_count": 12,
   "id": "27602bbc",
   "metadata": {},
   "outputs": [
    {
     "data": {
      "text/plain": [
       "np.int64(22)"
      ]
     },
     "execution_count": 12,
     "metadata": {},
     "output_type": "execute_result"
    }
   ],
   "source": [
    "df.duplicated().sum()"
   ]
  },
  {
   "cell_type": "markdown",
   "id": "a02e650a",
   "metadata": {},
   "source": [
    "### EDA"
   ]
  },
  {
   "cell_type": "markdown",
   "id": "102a0a94",
   "metadata": {},
   "source": [
    "### Do long-tenure customers churn less?"
   ]
  },
  {
   "cell_type": "code",
   "execution_count": 13,
   "id": "dcf749ad",
   "metadata": {},
   "outputs": [
    {
     "name": "stdout",
     "output_type": "stream",
     "text": [
      "                total_customers  churned_customers     churn%\n",
      "CONTRACT                                                     \n",
      "Month-to-month             3875               1655  42.709677\n",
      "One year                   1472                166  11.277174\n",
      "Two year                   1685                 48   2.848665\n"
     ]
    }
   ],
   "source": [
    "grouped_by_contract = df.groupby('CONTRACT')['CHURN'].agg(\n",
    "    total_customers='count',\n",
    "    churned_customers=lambda x: (x == 'Yes').sum(),\n",
    ")\n",
    "grouped_by_contract['churn%'] = grouped_by_contract['churned_customers'] / grouped_by_contract['total_customers'] * 100\n",
    "print(grouped_by_contract)"
   ]
  },
  {
   "cell_type": "code",
   "execution_count": 14,
   "id": "39c3daaf",
   "metadata": {},
   "outputs": [
    {
     "data": {
      "image/png": "[encoded data removed]",
      "text/plain": [
       "<Figure size 800x500 with 1 Axes>"
      ]
     },
     "metadata": {},
     "output_type": "display_data"
    }
   ],
   "source": [
    "plt.figure(figsize=(8,5))\n",
    "ax = sns.barplot(data=grouped_by_contract,\n",
    "            x = 'CONTRACT',\n",
    "            y = 'churn%',\n",
    "            )\n",
    "\n",
    "for container in ax.containers:\n",
    "    ax.bar_label(container=container, fmt='%.1f%%', padding=3)\n",
    "\n",
    "plt.show()"
   ]
  },
  {
   "cell_type": "markdown",
   "id": "19d5900f",
   "metadata": {},
   "source": [
    "### Does payment method impact churn?"
   ]
  },
  {
   "cell_type": "code",
   "execution_count": 15,
   "id": "e175dea6",
   "metadata": {},
   "outputs": [
    {
     "name": "stdout",
     "output_type": "stream",
     "text": [
      "                           total  churned  not_churned  CHURN %\n",
      "PAYMENTMETHOD                                                  \n",
      "Bank transfer (automatic)   1542      258         1284    16.73\n",
      "Credit card (automatic)     1521      232         1289    15.25\n",
      "Electronic check            2365     1071         1294    45.29\n",
      "Mailed check                1604      308         1296    19.20\n"
     ]
    }
   ],
   "source": [
    "summary = df.groupby('PAYMENTMETHOD')['CHURN'].agg(\n",
    "    total = 'count',\n",
    "    churned = lambda x: (x=='Yes').sum(),\n",
    "    not_churned = lambda x: (x=='No').sum()\n",
    ")\n",
    "summary['CHURN %'] = round(((summary['churned'] / (summary['churned'] + summary['not_churned'])) * 100), 2)\n",
    "print(summary)"
   ]
  },
  {
   "cell_type": "code",
   "execution_count": 16,
   "id": "d6d0daac",
   "metadata": {},
   "outputs": [
    {
     "data": {
      "text/plain": [
       "<Axes: xlabel='CHURN %', ylabel='PAYMENTMETHOD'>"
      ]
     },
     "execution_count": 16,
     "metadata": {},
     "output_type": "execute_result"
    },
    {
     "data": {
      "image/png": "[encoded data removed]",
      "text/plain": [
       "<Figure size 640x480 with 1 Axes>"
      ]
     },
     "metadata": {},
     "output_type": "display_data"
    }
   ],
   "source": [
    "sns.barplot(summary, y='PAYMENTMETHOD', x='CHURN %')"
   ]
  },
  {
   "cell_type": "markdown",
   "id": "2be33422",
   "metadata": {},
   "source": [
    "### Are fiber optic users more likely to churn than DSL?"
   ]
  },
  {
   "cell_type": "code",
   "execution_count": 17,
   "id": "01681ce6",
   "metadata": {},
   "outputs": [
    {
     "data": {
      "text/plain": [
       "INTERNETSERVICE\n",
       "Fiber optic    3096\n",
       "DSL            2416\n",
       "No             1520\n",
       "Name: count, dtype: int64"
      ]
     },
     "execution_count": 17,
     "metadata": {},
     "output_type": "execute_result"
    }
   ],
   "source": [
    "df['INTERNETSERVICE'].value_counts()"
   ]
  },
  {
   "cell_type": "code",
   "execution_count": 18,
   "id": "14c8386f",
   "metadata": {},
   "outputs": [
    {
     "data": {
      "text/html": [
       "<div>\n",
       "<style scoped>\n",
       "    .dataframe tbody tr th:only-of-type {\n",
       "        vertical-align: middle;\n",
       "    }\n",
       "\n",
       "    .dataframe tbody tr th {\n",
       "        vertical-align: top;\n",
       "    }\n",
       "\n",
       "    .dataframe thead th {\n",
       "        text-align: right;\n",
       "    }\n",
       "</style>\n",
       "<table border=\"1\" class=\"dataframe\">\n",
       "  <thead>\n",
       "    <tr style=\"text-align: right;\">\n",
       "      <th></th>\n",
       "      <th>total</th>\n",
       "      <th>churned</th>\n",
       "      <th>CHURN %</th>\n",
       "    </tr>\n",
       "    <tr>\n",
       "      <th>INTERNETSERVICE</th>\n",
       "      <th></th>\n",
       "      <th></th>\n",
       "      <th></th>\n",
       "    </tr>\n",
       "  </thead>\n",
       "  <tbody>\n",
       "    <tr>\n",
       "      <th>DSL</th>\n",
       "      <td>2416</td>\n",
       "      <td>459</td>\n",
       "      <td>19.00</td>\n",
       "    </tr>\n",
       "    <tr>\n",
       "      <th>Fiber optic</th>\n",
       "      <td>3096</td>\n",
       "      <td>1297</td>\n",
       "      <td>41.89</td>\n",
       "    </tr>\n",
       "    <tr>\n",
       "      <th>No</th>\n",
       "      <td>1520</td>\n",
       "      <td>113</td>\n",
       "      <td>7.43</td>\n",
       "    </tr>\n",
       "  </tbody>\n",
       "</table>\n",
       "</div>"
      ],
      "text/plain": [
       "                 total  churned  CHURN %\n",
       "INTERNETSERVICE                         \n",
       "DSL               2416      459    19.00\n",
       "Fiber optic       3096     1297    41.89\n",
       "No                1520      113     7.43"
      ]
     },
     "execution_count": 18,
     "metadata": {},
     "output_type": "execute_result"
    }
   ],
   "source": [
    "summary = df.groupby('INTERNETSERVICE')['CHURN'].agg(\n",
    "    total = 'count',\n",
    "    churned = lambda x: (x=='Yes').sum()\n",
    ")\n",
    "\n",
    "summary['CHURN %'] = round((summary['churned'] / summary['total'] * 100), 2)\n",
    "\n",
    "summary"
   ]
  },
  {
   "cell_type": "code",
   "execution_count": 19,
   "id": "77ac35f1",
   "metadata": {},
   "outputs": [
    {
     "data": {
      "text/plain": [
       "<Axes: xlabel='INTERNETSERVICE', ylabel='count'>"
      ]
     },
     "execution_count": 19,
     "metadata": {},
     "output_type": "execute_result"
    },
    {
     "data": {
      "image/png": "[encoded data removed]",
      "text/plain": [
       "<Figure size 640x480 with 1 Axes>"
      ]
     },
     "metadata": {},
     "output_type": "display_data"
    }
   ],
   "source": [
    "sns.countplot(data = df, x = 'INTERNETSERVICE', hue = 'CHURN')"
   ]
  },
  {
   "cell_type": "code",
   "execution_count": 20,
   "id": "545c0a30",
   "metadata": {},
   "outputs": [
    {
     "data": {
      "image/png": "[encoded data removed]",
      "text/plain": [
       "<Figure size 800x500 with 1 Axes>"
      ]
     },
     "metadata": {},
     "output_type": "display_data"
    }
   ],
   "source": [
    "plt.figure(figsize=(8,5))\n",
    "ax = sns.barplot(data=summary, x='INTERNETSERVICE', y='CHURN %')\n",
    "\n",
    "for container in ax.containers:\n",
    "    ax.bar_label(container, fmt = '%.1f%%')\n",
    "\n",
    "plt.show()"
   ]
  },
  {
   "cell_type": "markdown",
   "id": "dc606faf",
   "metadata": {},
   "source": [
    "### Are monthly charges predictive of churn?"
   ]
  },
  {
   "cell_type": "code",
   "execution_count": 21,
   "id": "7657038f",
   "metadata": {},
   "outputs": [
    {
     "data": {
      "text/html": [
       "<div>\n",
       "<style scoped>\n",
       "    .dataframe tbody tr th:only-of-type {\n",
       "        vertical-align: middle;\n",
       "    }\n",
       "\n",
       "    .dataframe tbody tr th {\n",
       "        vertical-align: top;\n",
       "    }\n",
       "\n",
       "    .dataframe thead th {\n",
       "        text-align: right;\n",
       "    }\n",
       "</style>\n",
       "<table border=\"1\" class=\"dataframe\">\n",
       "  <thead>\n",
       "    <tr style=\"text-align: right;\">\n",
       "      <th></th>\n",
       "      <th>MONTHLYCHARGES</th>\n",
       "      <th>CHURN</th>\n",
       "    </tr>\n",
       "  </thead>\n",
       "  <tbody>\n",
       "    <tr>\n",
       "      <th>0</th>\n",
       "      <td>29.85</td>\n",
       "      <td>No</td>\n",
       "    </tr>\n",
       "    <tr>\n",
       "      <th>1</th>\n",
       "      <td>56.95</td>\n",
       "      <td>No</td>\n",
       "    </tr>\n",
       "    <tr>\n",
       "      <th>2</th>\n",
       "      <td>53.85</td>\n",
       "      <td>Yes</td>\n",
       "    </tr>\n",
       "    <tr>\n",
       "      <th>3</th>\n",
       "      <td>42.30</td>\n",
       "      <td>No</td>\n",
       "    </tr>\n",
       "    <tr>\n",
       "      <th>4</th>\n",
       "      <td>70.70</td>\n",
       "      <td>Yes</td>\n",
       "    </tr>\n",
       "    <tr>\n",
       "      <th>...</th>\n",
       "      <td>...</td>\n",
       "      <td>...</td>\n",
       "    </tr>\n",
       "    <tr>\n",
       "      <th>7038</th>\n",
       "      <td>84.80</td>\n",
       "      <td>No</td>\n",
       "    </tr>\n",
       "    <tr>\n",
       "      <th>7039</th>\n",
       "      <td>103.20</td>\n",
       "      <td>No</td>\n",
       "    </tr>\n",
       "    <tr>\n",
       "      <th>7040</th>\n",
       "      <td>29.60</td>\n",
       "      <td>No</td>\n",
       "    </tr>\n",
       "    <tr>\n",
       "      <th>7041</th>\n",
       "      <td>74.40</td>\n",
       "      <td>Yes</td>\n",
       "    </tr>\n",
       "    <tr>\n",
       "      <th>7042</th>\n",
       "      <td>105.65</td>\n",
       "      <td>No</td>\n",
       "    </tr>\n",
       "  </tbody>\n",
       "</table>\n",
       "<p>7032 rows × 2 columns</p>\n",
       "</div>"
      ],
      "text/plain": [
       "      MONTHLYCHARGES CHURN\n",
       "0              29.85    No\n",
       "1              56.95    No\n",
       "2              53.85   Yes\n",
       "3              42.30    No\n",
       "4              70.70   Yes\n",
       "...              ...   ...\n",
       "7038           84.80    No\n",
       "7039          103.20    No\n",
       "7040           29.60    No\n",
       "7041           74.40   Yes\n",
       "7042          105.65    No\n",
       "\n",
       "[7032 rows x 2 columns]"
      ]
     },
     "execution_count": 21,
     "metadata": {},
     "output_type": "execute_result"
    }
   ],
   "source": [
    "df[['MONTHLYCHARGES', 'CHURN']]"
   ]
  },
  {
   "cell_type": "code",
   "execution_count": 22,
   "id": "812f39d6",
   "metadata": {},
   "outputs": [
    {
     "data": {
      "text/plain": [
       "count    7032.000000\n",
       "mean       64.798208\n",
       "std        30.085974\n",
       "min        18.250000\n",
       "25%        35.587500\n",
       "50%        70.350000\n",
       "75%        89.862500\n",
       "max       118.750000\n",
       "Name: MONTHLYCHARGES, dtype: float64"
      ]
     },
     "execution_count": 22,
     "metadata": {},
     "output_type": "execute_result"
    }
   ],
   "source": [
    "df['MONTHLYCHARGES'].describe()"
   ]
  },
  {
   "cell_type": "code",
   "execution_count": 23,
   "id": "35f0114e",
   "metadata": {},
   "outputs": [],
   "source": [
    "bins = [0, 20, 40, 60, 80, 100, 120]\n",
    "df['MONTHLYCHARGE_BRACKET'] = pd.cut(df['MONTHLYCHARGES'], bins, right=True)"
   ]
  },
  {
   "cell_type": "code",
   "execution_count": 24,
   "id": "be14da9d",
   "metadata": {},
   "outputs": [
    {
     "data": {
      "text/html": [
       "<div>\n",
       "<style scoped>\n",
       "    .dataframe tbody tr th:only-of-type {\n",
       "        vertical-align: middle;\n",
       "    }\n",
       "\n",
       "    .dataframe tbody tr th {\n",
       "        vertical-align: top;\n",
       "    }\n",
       "\n",
       "    .dataframe thead th {\n",
       "        text-align: right;\n",
       "    }\n",
       "</style>\n",
       "<table border=\"1\" class=\"dataframe\">\n",
       "  <thead>\n",
       "    <tr style=\"text-align: right;\">\n",
       "      <th></th>\n",
       "      <th>MONTHLYCHARGE_BRACKET</th>\n",
       "      <th>CHURN</th>\n",
       "    </tr>\n",
       "  </thead>\n",
       "  <tbody>\n",
       "    <tr>\n",
       "      <th>0</th>\n",
       "      <td>(20, 40]</td>\n",
       "      <td>No</td>\n",
       "    </tr>\n",
       "    <tr>\n",
       "      <th>1</th>\n",
       "      <td>(40, 60]</td>\n",
       "      <td>No</td>\n",
       "    </tr>\n",
       "    <tr>\n",
       "      <th>2</th>\n",
       "      <td>(40, 60]</td>\n",
       "      <td>Yes</td>\n",
       "    </tr>\n",
       "    <tr>\n",
       "      <th>3</th>\n",
       "      <td>(40, 60]</td>\n",
       "      <td>No</td>\n",
       "    </tr>\n",
       "    <tr>\n",
       "      <th>4</th>\n",
       "      <td>(60, 80]</td>\n",
       "      <td>Yes</td>\n",
       "    </tr>\n",
       "    <tr>\n",
       "      <th>...</th>\n",
       "      <td>...</td>\n",
       "      <td>...</td>\n",
       "    </tr>\n",
       "    <tr>\n",
       "      <th>7038</th>\n",
       "      <td>(80, 100]</td>\n",
       "      <td>No</td>\n",
       "    </tr>\n",
       "    <tr>\n",
       "      <th>7039</th>\n",
       "      <td>(100, 120]</td>\n",
       "      <td>No</td>\n",
       "    </tr>\n",
       "    <tr>\n",
       "      <th>7040</th>\n",
       "      <td>(20, 40]</td>\n",
       "      <td>No</td>\n",
       "    </tr>\n",
       "    <tr>\n",
       "      <th>7041</th>\n",
       "      <td>(60, 80]</td>\n",
       "      <td>Yes</td>\n",
       "    </tr>\n",
       "    <tr>\n",
       "      <th>7042</th>\n",
       "      <td>(100, 120]</td>\n",
       "      <td>No</td>\n",
       "    </tr>\n",
       "  </tbody>\n",
       "</table>\n",
       "<p>7032 rows × 2 columns</p>\n",
       "</div>"
      ],
      "text/plain": [
       "     MONTHLYCHARGE_BRACKET CHURN\n",
       "0                 (20, 40]    No\n",
       "1                 (40, 60]    No\n",
       "2                 (40, 60]   Yes\n",
       "3                 (40, 60]    No\n",
       "4                 (60, 80]   Yes\n",
       "...                    ...   ...\n",
       "7038             (80, 100]    No\n",
       "7039            (100, 120]    No\n",
       "7040              (20, 40]    No\n",
       "7041              (60, 80]   Yes\n",
       "7042            (100, 120]    No\n",
       "\n",
       "[7032 rows x 2 columns]"
      ]
     },
     "execution_count": 24,
     "metadata": {},
     "output_type": "execute_result"
    }
   ],
   "source": [
    "df[['MONTHLYCHARGE_BRACKET', 'CHURN']]"
   ]
  },
  {
   "cell_type": "code",
   "execution_count": 25,
   "id": "b9127fa3",
   "metadata": {},
   "outputs": [
    {
     "data": {
      "text/plain": [
       "<Axes: xlabel='MONTHLYCHARGE_BRACKET', ylabel='count'>"
      ]
     },
     "execution_count": 25,
     "metadata": {},
     "output_type": "execute_result"
    },
    {
     "data": {
      "image/png": "[encoded data removed]",
      "text/plain": [
       "<Figure size 640x480 with 1 Axes>"
      ]
     },
     "metadata": {},
     "output_type": "display_data"
    }
   ],
   "source": [
    "sns.countplot(data=df, x='MONTHLYCHARGE_BRACKET', hue='CHURN')"
   ]
  },
  {
   "cell_type": "markdown",
   "id": "69d15fc4",
   "metadata": {},
   "source": [
    "### What’s the churn rate by contract type?"
   ]
  },
  {
   "cell_type": "code",
   "execution_count": 26,
   "id": "546781b4",
   "metadata": {},
   "outputs": [
    {
     "name": "stdout",
     "output_type": "stream",
     "text": [
      "                total_customers  churned_customers     churn%\n",
      "CONTRACT                                                     \n",
      "Month-to-month             3875               1655  42.709677\n",
      "One year                   1472                166  11.277174\n",
      "Two year                   1685                 48   2.848665\n"
     ]
    }
   ],
   "source": [
    "grouped_by_contract = df.groupby('CONTRACT')['CHURN'].agg(\n",
    "    total_customers='count',\n",
    "    churned_customers=lambda x: (x == 'Yes').sum(),\n",
    ")\n",
    "grouped_by_contract['churn%'] = grouped_by_contract['churned_customers'] / grouped_by_contract['total_customers'] * 100\n",
    "print(grouped_by_contract)"
   ]
  },
  {
   "cell_type": "markdown",
   "id": "3ddadad4",
   "metadata": {},
   "source": [
    "### Is PaperlessBilling riskier?"
   ]
  },
  {
   "cell_type": "code",
   "execution_count": 27,
   "id": "dbcfdc04",
   "metadata": {},
   "outputs": [
    {
     "data": {
      "text/plain": [
       "<Axes: xlabel='PAPERLESSBILLING', ylabel='count'>"
      ]
     },
     "execution_count": 27,
     "metadata": {},
     "output_type": "execute_result"
    },
    {
     "data": {
      "image/png": "[encoded data removed]",
      "text/plain": [
       "<Figure size 640x480 with 1 Axes>"
      ]
     },
     "metadata": {},
     "output_type": "display_data"
    }
   ],
   "source": [
    "sns.countplot(data=df, x = 'PAPERLESSBILLING', hue='CHURN')"
   ]
  },
  {
   "cell_type": "code",
   "execution_count": 28,
   "id": "e45fddbc",
   "metadata": {},
   "outputs": [
    {
     "data": {
      "text/html": [
       "<div>\n",
       "<style scoped>\n",
       "    .dataframe tbody tr th:only-of-type {\n",
       "        vertical-align: middle;\n",
       "    }\n",
       "\n",
       "    .dataframe tbody tr th {\n",
       "        vertical-align: top;\n",
       "    }\n",
       "\n",
       "    .dataframe thead th {\n",
       "        text-align: right;\n",
       "    }\n",
       "</style>\n",
       "<table border=\"1\" class=\"dataframe\">\n",
       "  <thead>\n",
       "    <tr style=\"text-align: right;\">\n",
       "      <th></th>\n",
       "      <th>total</th>\n",
       "      <th>CHURN %</th>\n",
       "    </tr>\n",
       "    <tr>\n",
       "      <th>PAPERLESSBILLING</th>\n",
       "      <th></th>\n",
       "      <th></th>\n",
       "    </tr>\n",
       "  </thead>\n",
       "  <tbody>\n",
       "    <tr>\n",
       "      <th>No</th>\n",
       "      <td>2864</td>\n",
       "      <td>16.38</td>\n",
       "    </tr>\n",
       "    <tr>\n",
       "      <th>Yes</th>\n",
       "      <td>4168</td>\n",
       "      <td>33.59</td>\n",
       "    </tr>\n",
       "  </tbody>\n",
       "</table>\n",
       "</div>"
      ],
      "text/plain": [
       "                  total  CHURN %\n",
       "PAPERLESSBILLING                \n",
       "No                 2864    16.38\n",
       "Yes                4168    33.59"
      ]
     },
     "execution_count": 28,
     "metadata": {},
     "output_type": "execute_result"
    }
   ],
   "source": [
    "summary = df.groupby('PAPERLESSBILLING')['CHURN'].agg(\n",
    "    total = 'count',\n",
    "    churned = lambda x: (x == 'Yes').sum()\n",
    ")\n",
    "summary['CHURN %'] = round((summary['churned'] / summary['total'] * 100), 2)\n",
    "\n",
    "summary[['total', 'CHURN %']]"
   ]
  },
  {
   "cell_type": "markdown",
   "id": "b33a1ae4",
   "metadata": {},
   "source": [
    "### Are seniors or customers without dependents more likely to churn?"
   ]
  },
  {
   "cell_type": "code",
   "execution_count": 29,
   "id": "97396a66",
   "metadata": {},
   "outputs": [
    {
     "data": {
      "text/html": [
       "<div>\n",
       "<style scoped>\n",
       "    .dataframe tbody tr th:only-of-type {\n",
       "        vertical-align: middle;\n",
       "    }\n",
       "\n",
       "    .dataframe tbody tr th {\n",
       "        vertical-align: top;\n",
       "    }\n",
       "\n",
       "    .dataframe thead th {\n",
       "        text-align: right;\n",
       "    }\n",
       "</style>\n",
       "<table border=\"1\" class=\"dataframe\">\n",
       "  <thead>\n",
       "    <tr style=\"text-align: right;\">\n",
       "      <th></th>\n",
       "      <th>SENIORCITIZEN</th>\n",
       "      <th>DEPENDENTS</th>\n",
       "      <th>CHURN</th>\n",
       "    </tr>\n",
       "  </thead>\n",
       "  <tbody>\n",
       "    <tr>\n",
       "      <th>0</th>\n",
       "      <td>No</td>\n",
       "      <td>No</td>\n",
       "      <td>No</td>\n",
       "    </tr>\n",
       "    <tr>\n",
       "      <th>1</th>\n",
       "      <td>No</td>\n",
       "      <td>No</td>\n",
       "      <td>No</td>\n",
       "    </tr>\n",
       "    <tr>\n",
       "      <th>2</th>\n",
       "      <td>No</td>\n",
       "      <td>No</td>\n",
       "      <td>Yes</td>\n",
       "    </tr>\n",
       "    <tr>\n",
       "      <th>3</th>\n",
       "      <td>No</td>\n",
       "      <td>No</td>\n",
       "      <td>No</td>\n",
       "    </tr>\n",
       "    <tr>\n",
       "      <th>4</th>\n",
       "      <td>No</td>\n",
       "      <td>No</td>\n",
       "      <td>Yes</td>\n",
       "    </tr>\n",
       "    <tr>\n",
       "      <th>...</th>\n",
       "      <td>...</td>\n",
       "      <td>...</td>\n",
       "      <td>...</td>\n",
       "    </tr>\n",
       "    <tr>\n",
       "      <th>7038</th>\n",
       "      <td>No</td>\n",
       "      <td>Yes</td>\n",
       "      <td>No</td>\n",
       "    </tr>\n",
       "    <tr>\n",
       "      <th>7039</th>\n",
       "      <td>No</td>\n",
       "      <td>Yes</td>\n",
       "      <td>No</td>\n",
       "    </tr>\n",
       "    <tr>\n",
       "      <th>7040</th>\n",
       "      <td>No</td>\n",
       "      <td>Yes</td>\n",
       "      <td>No</td>\n",
       "    </tr>\n",
       "    <tr>\n",
       "      <th>7041</th>\n",
       "      <td>Yes</td>\n",
       "      <td>No</td>\n",
       "      <td>Yes</td>\n",
       "    </tr>\n",
       "    <tr>\n",
       "      <th>7042</th>\n",
       "      <td>No</td>\n",
       "      <td>No</td>\n",
       "      <td>No</td>\n",
       "    </tr>\n",
       "  </tbody>\n",
       "</table>\n",
       "<p>7032 rows × 3 columns</p>\n",
       "</div>"
      ],
      "text/plain": [
       "     SENIORCITIZEN DEPENDENTS CHURN\n",
       "0               No         No    No\n",
       "1               No         No    No\n",
       "2               No         No   Yes\n",
       "3               No         No    No\n",
       "4               No         No   Yes\n",
       "...            ...        ...   ...\n",
       "7038            No        Yes    No\n",
       "7039            No        Yes    No\n",
       "7040            No        Yes    No\n",
       "7041           Yes         No   Yes\n",
       "7042            No         No    No\n",
       "\n",
       "[7032 rows x 3 columns]"
      ]
     },
     "execution_count": 29,
     "metadata": {},
     "output_type": "execute_result"
    }
   ],
   "source": [
    "df[['SENIORCITIZEN', 'DEPENDENTS', 'CHURN']]"
   ]
  },
  {
   "cell_type": "code",
   "execution_count": 30,
   "id": "05ac365c",
   "metadata": {},
   "outputs": [
    {
     "data": {
      "text/html": [
       "<div>\n",
       "<style scoped>\n",
       "    .dataframe tbody tr th:only-of-type {\n",
       "        vertical-align: middle;\n",
       "    }\n",
       "\n",
       "    .dataframe tbody tr th {\n",
       "        vertical-align: top;\n",
       "    }\n",
       "\n",
       "    .dataframe thead th {\n",
       "        text-align: right;\n",
       "    }\n",
       "</style>\n",
       "<table border=\"1\" class=\"dataframe\">\n",
       "  <thead>\n",
       "    <tr style=\"text-align: right;\">\n",
       "      <th></th>\n",
       "      <th></th>\n",
       "      <th>TOTAL</th>\n",
       "      <th>CHURNED</th>\n",
       "      <th>CHURNED %</th>\n",
       "    </tr>\n",
       "    <tr>\n",
       "      <th>SENIORCITIZEN</th>\n",
       "      <th>DEPENDENTS</th>\n",
       "      <th></th>\n",
       "      <th></th>\n",
       "      <th></th>\n",
       "    </tr>\n",
       "  </thead>\n",
       "  <tbody>\n",
       "    <tr>\n",
       "      <th rowspan=\"2\" valign=\"top\">No</th>\n",
       "      <th>No</th>\n",
       "      <td>3882</td>\n",
       "      <td>1089</td>\n",
       "      <td>28.05</td>\n",
       "    </tr>\n",
       "    <tr>\n",
       "      <th>Yes</th>\n",
       "      <td>2008</td>\n",
       "      <td>304</td>\n",
       "      <td>15.14</td>\n",
       "    </tr>\n",
       "    <tr>\n",
       "      <th rowspan=\"2\" valign=\"top\">Yes</th>\n",
       "      <th>No</th>\n",
       "      <td>1051</td>\n",
       "      <td>454</td>\n",
       "      <td>43.20</td>\n",
       "    </tr>\n",
       "    <tr>\n",
       "      <th>Yes</th>\n",
       "      <td>91</td>\n",
       "      <td>22</td>\n",
       "      <td>24.18</td>\n",
       "    </tr>\n",
       "  </tbody>\n",
       "</table>\n",
       "</div>"
      ],
      "text/plain": [
       "                          TOTAL  CHURNED  CHURNED %\n",
       "SENIORCITIZEN DEPENDENTS                           \n",
       "No            No           3882     1089      28.05\n",
       "              Yes          2008      304      15.14\n",
       "Yes           No           1051      454      43.20\n",
       "              Yes            91       22      24.18"
      ]
     },
     "execution_count": 30,
     "metadata": {},
     "output_type": "execute_result"
    }
   ],
   "source": [
    "summary = df.groupby(['SENIORCITIZEN', 'DEPENDENTS'])['CHURN'].agg(\n",
    "    TOTAL = 'count',\n",
    "    CHURNED = lambda x: (x=='Yes').sum()\n",
    ")\n",
    "\n",
    "summary['CHURNED %'] = round((summary['CHURNED'] / summary['TOTAL'] * 100), 2)\n",
    "summary"
   ]
  },
  {
   "cell_type": "code",
   "execution_count": 31,
   "id": "bacd3b2e",
   "metadata": {},
   "outputs": [
    {
     "data": {
      "text/plain": [
       "<Axes: xlabel='SENIORCITIZEN', ylabel='CHURNED %'>"
      ]
     },
     "execution_count": 31,
     "metadata": {},
     "output_type": "execute_result"
    },
    {
     "data": {
      "image/png": "[encoded data removed]",
      "text/plain": [
       "<Figure size 640x480 with 1 Axes>"
      ]
     },
     "metadata": {},
     "output_type": "display_data"
    }
   ],
   "source": [
    "sns.barplot(data = summary, x='SENIORCITIZEN', y='CHURNED %', hue='DEPENDENTS')"
   ]
  },
  {
   "cell_type": "markdown",
   "id": "8ca53834",
   "metadata": {},
   "source": [
    "### Which services are most associated with churn?"
   ]
  },
  {
   "cell_type": "code",
   "execution_count": 32,
   "id": "46a780c0",
   "metadata": {},
   "outputs": [],
   "source": [
    "services = ['PHONESERVICE',\n",
    " 'MULTIPLELINES',\n",
    " 'INTERNETSERVICE',\n",
    " 'ONLINESECURITY',\n",
    " 'ONLINEBACKUP',\n",
    " 'DEVICEPROTECTION',\n",
    " 'TECHSUPPORT',\n",
    " 'STREAMINGTV',\n",
    " 'STREAMINGMOVIES',]"
   ]
  },
  {
   "cell_type": "code",
   "execution_count": 33,
   "id": "8ba0bc3c",
   "metadata": {},
   "outputs": [
    {
     "name": "stdout",
     "output_type": "stream",
     "text": [
      "Churns in PHONESERVICE:\n",
      "              churned\n",
      "PHONESERVICE         \n",
      "No                170\n",
      "Yes              1699\n",
      "=======================================================================================\n",
      "Churns in MULTIPLELINES:\n",
      "                  churned\n",
      "MULTIPLELINES            \n",
      "No                    849\n",
      "No phone service      170\n",
      "Yes                   850\n",
      "=======================================================================================\n",
      "Churns in INTERNETSERVICE:\n",
      "                 churned\n",
      "INTERNETSERVICE         \n",
      "DSL                  459\n",
      "Fiber optic         1297\n",
      "No                   113\n",
      "=======================================================================================\n",
      "Churns in ONLINESECURITY:\n",
      "                     churned\n",
      "ONLINESECURITY              \n",
      "No                      1461\n",
      "No internet service      113\n",
      "Yes                      295\n",
      "=======================================================================================\n",
      "Churns in ONLINEBACKUP:\n",
      "                     churned\n",
      "ONLINEBACKUP                \n",
      "No                      1233\n",
      "No internet service      113\n",
      "Yes                      523\n",
      "=======================================================================================\n",
      "Churns in DEVICEPROTECTION:\n",
      "                     churned\n",
      "DEVICEPROTECTION            \n",
      "No                      1211\n",
      "No internet service      113\n",
      "Yes                      545\n",
      "=======================================================================================\n",
      "Churns in TECHSUPPORT:\n",
      "                     churned\n",
      "TECHSUPPORT                 \n",
      "No                      1446\n",
      "No internet service      113\n",
      "Yes                      310\n",
      "=======================================================================================\n",
      "Churns in STREAMINGTV:\n",
      "                     churned\n",
      "STREAMINGTV                 \n",
      "No                       942\n",
      "No internet service      113\n",
      "Yes                      814\n",
      "=======================================================================================\n",
      "Churns in STREAMINGMOVIES:\n",
      "                     churned\n",
      "STREAMINGMOVIES             \n",
      "No                       938\n",
      "No internet service      113\n",
      "Yes                      818\n",
      "=======================================================================================\n"
     ]
    }
   ],
   "source": [
    "for service in services:\n",
    "    print(f'Churns in {service}:')\n",
    "\n",
    "    summary = df.groupby(service)['CHURN'].agg(\n",
    "        churned = lambda x: (x=='Yes').sum()\n",
    "    )\n",
    "    print(summary)\n",
    "    print(3 * \"=============================\")"
   ]
  },
  {
   "cell_type": "markdown",
   "id": "ca9fe347",
   "metadata": {},
   "source": [
    "Not using services like PHONE SERVICE, ONLINE BACKUP, DEVICE PROTECTION, TECH SUPPORT etc are high indicators of churn."
   ]
  },
  {
   "cell_type": "markdown",
   "id": "10238b5f",
   "metadata": {},
   "source": [
    "#### Checking relationship between 'STREAMINGTV' & 'STREAMINGMOVIES'"
   ]
  },
  {
   "cell_type": "code",
   "execution_count": 34,
   "id": "b5219c25",
   "metadata": {},
   "outputs": [
    {
     "name": "stdout",
     "output_type": "stream",
     "text": [
      "p_value: 0.0\n",
      "Null hypothesis can be rejected, the two variables are not independent\n"
     ]
    }
   ],
   "source": [
    "from scipy.stats import chi2_contingency\n",
    "\n",
    "table = pd.crosstab(df['STREAMINGMOVIES'], df['STREAMINGTV'])\n",
    "\n",
    "test = chi2_contingency(table)\n",
    "\n",
    "print(f'p_value: {test[1]}')\n",
    "if test[1] < 0.5:\n",
    "    print('Null hypothesis can be rejected, the two variables are not independent')\n",
    "else:\n",
    "    print('the two variables are independent of each other')"
   ]
  },
  {
   "cell_type": "markdown",
   "id": "e81e4b7e",
   "metadata": {},
   "source": [
    "### EDA CONCLUSION"
   ]
  },
  {
   "cell_type": "markdown",
   "id": "9731f083",
   "metadata": {},
   "source": [
    "- Customers with Short tenure (month-to-month) are more likely to churn. \n",
    "- Not using services like PHONE SERVICE, ONLINE BACKUP, DEVICE PROTECTION, TECH SUPPORT etc are high indicators of churn.\n",
    "- Customers using 'electronic check' as payment method are more prone to churn.\n",
    "- Fibre optic users are more likely to churn than DSL.\n",
    "- There is a stead increase in churn rate as monthly charges increase upto $100. After that, churn rate gets down significantly. \n",
    "- Nearly 42% of customers with monthly payment contract churned. Number steeped down to 2% only when customer using two-year cycle.\n",
    "- Paperless billing appears to be riskly, with nearly 33% churn rate.\n",
    "- Very high churn rate (43%) in senior citizens with no dependents.\n",
    "- 'STREAMINGTV' & 'STREAMINGMOVIES' are statistically dependent on one another."
   ]
  },
  {
   "cell_type": "markdown",
   "id": "04a873d5",
   "metadata": {},
   "source": [
    "### FEATURE ENGINEERING\n",
    "\n",
    "- Create new features\n",
    "- Encode categorical variables\n",
    "- Normalize numerical values"
   ]
  },
  {
   "cell_type": "markdown",
   "id": "8828b10d",
   "metadata": {},
   "source": [
    "#### New Features"
   ]
  },
  {
   "cell_type": "code",
   "execution_count": 35,
   "id": "b5f3443c",
   "metadata": {},
   "outputs": [
    {
     "data": {
      "text/html": [
       "<div>\n",
       "<style scoped>\n",
       "    .dataframe tbody tr th:only-of-type {\n",
       "        vertical-align: middle;\n",
       "    }\n",
       "\n",
       "    .dataframe tbody tr th {\n",
       "        vertical-align: top;\n",
       "    }\n",
       "\n",
       "    .dataframe thead th {\n",
       "        text-align: right;\n",
       "    }\n",
       "</style>\n",
       "<table border=\"1\" class=\"dataframe\">\n",
       "  <thead>\n",
       "    <tr style=\"text-align: right;\">\n",
       "      <th></th>\n",
       "      <th>TENURE</th>\n",
       "      <th>TOTALCHARGES</th>\n",
       "      <th>MONTHLYCHARGES</th>\n",
       "      <th>CHARGE_PER_TENURE</th>\n",
       "    </tr>\n",
       "  </thead>\n",
       "  <tbody>\n",
       "    <tr>\n",
       "      <th>count</th>\n",
       "      <td>7032.000000</td>\n",
       "      <td>7032.000000</td>\n",
       "      <td>7032.000000</td>\n",
       "      <td>7032.000000</td>\n",
       "    </tr>\n",
       "    <tr>\n",
       "      <th>mean</th>\n",
       "      <td>32.421786</td>\n",
       "      <td>2283.300441</td>\n",
       "      <td>64.798208</td>\n",
       "      <td>59.083067</td>\n",
       "    </tr>\n",
       "    <tr>\n",
       "      <th>std</th>\n",
       "      <td>24.545260</td>\n",
       "      <td>2266.771362</td>\n",
       "      <td>30.085974</td>\n",
       "      <td>30.514438</td>\n",
       "    </tr>\n",
       "    <tr>\n",
       "      <th>min</th>\n",
       "      <td>1.000000</td>\n",
       "      <td>18.800000</td>\n",
       "      <td>18.250000</td>\n",
       "      <td>9.183333</td>\n",
       "    </tr>\n",
       "    <tr>\n",
       "      <th>25%</th>\n",
       "      <td>9.000000</td>\n",
       "      <td>401.450000</td>\n",
       "      <td>35.587500</td>\n",
       "      <td>26.225944</td>\n",
       "    </tr>\n",
       "    <tr>\n",
       "      <th>50%</th>\n",
       "      <td>29.000000</td>\n",
       "      <td>1397.475000</td>\n",
       "      <td>70.350000</td>\n",
       "      <td>61.070387</td>\n",
       "    </tr>\n",
       "    <tr>\n",
       "      <th>75%</th>\n",
       "      <td>55.000000</td>\n",
       "      <td>3794.737500</td>\n",
       "      <td>89.862500</td>\n",
       "      <td>84.877538</td>\n",
       "    </tr>\n",
       "    <tr>\n",
       "      <th>max</th>\n",
       "      <td>72.000000</td>\n",
       "      <td>8684.800000</td>\n",
       "      <td>118.750000</td>\n",
       "      <td>118.969863</td>\n",
       "    </tr>\n",
       "  </tbody>\n",
       "</table>\n",
       "</div>"
      ],
      "text/plain": [
       "            TENURE  TOTALCHARGES  MONTHLYCHARGES  CHARGE_PER_TENURE\n",
       "count  7032.000000   7032.000000     7032.000000        7032.000000\n",
       "mean     32.421786   2283.300441       64.798208          59.083067\n",
       "std      24.545260   2266.771362       30.085974          30.514438\n",
       "min       1.000000     18.800000       18.250000           9.183333\n",
       "25%       9.000000    401.450000       35.587500          26.225944\n",
       "50%      29.000000   1397.475000       70.350000          61.070387\n",
       "75%      55.000000   3794.737500       89.862500          84.877538\n",
       "max      72.000000   8684.800000      118.750000         118.969863"
      ]
     },
     "execution_count": 35,
     "metadata": {},
     "output_type": "execute_result"
    }
   ],
   "source": [
    "df['CHARGE_PER_TENURE'] = df['TOTALCHARGES'] / (df['TENURE'] + 1)\n",
    "\n",
    "df[['TENURE', 'TOTALCHARGES', 'MONTHLYCHARGES', 'CHARGE_PER_TENURE']].describe()"
   ]
  },
  {
   "cell_type": "code",
   "execution_count": 36,
   "id": "ab5513b6",
   "metadata": {},
   "outputs": [
    {
     "data": {
      "text/html": [
       "<div>\n",
       "<style scoped>\n",
       "    .dataframe tbody tr th:only-of-type {\n",
       "        vertical-align: middle;\n",
       "    }\n",
       "\n",
       "    .dataframe tbody tr th {\n",
       "        vertical-align: top;\n",
       "    }\n",
       "\n",
       "    .dataframe thead th {\n",
       "        text-align: right;\n",
       "    }\n",
       "</style>\n",
       "<table border=\"1\" class=\"dataframe\">\n",
       "  <thead>\n",
       "    <tr style=\"text-align: right;\">\n",
       "      <th></th>\n",
       "      <th>TENURE</th>\n",
       "      <th>TOTALCHARGES</th>\n",
       "      <th>CHARGE_PER_TENURE</th>\n",
       "    </tr>\n",
       "  </thead>\n",
       "  <tbody>\n",
       "    <tr>\n",
       "      <th>TENURE</th>\n",
       "      <td>1.000000</td>\n",
       "      <td>0.825880</td>\n",
       "      <td>0.412135</td>\n",
       "    </tr>\n",
       "    <tr>\n",
       "      <th>TOTALCHARGES</th>\n",
       "      <td>0.825880</td>\n",
       "      <td>1.000000</td>\n",
       "      <td>0.764489</td>\n",
       "    </tr>\n",
       "    <tr>\n",
       "      <th>CHARGE_PER_TENURE</th>\n",
       "      <td>0.412135</td>\n",
       "      <td>0.764489</td>\n",
       "      <td>1.000000</td>\n",
       "    </tr>\n",
       "  </tbody>\n",
       "</table>\n",
       "</div>"
      ],
      "text/plain": [
       "                     TENURE  TOTALCHARGES  CHARGE_PER_TENURE\n",
       "TENURE             1.000000      0.825880           0.412135\n",
       "TOTALCHARGES       0.825880      1.000000           0.764489\n",
       "CHARGE_PER_TENURE  0.412135      0.764489           1.000000"
      ]
     },
     "execution_count": 36,
     "metadata": {},
     "output_type": "execute_result"
    }
   ],
   "source": [
    "df[['TENURE', 'TOTALCHARGES', 'CHARGE_PER_TENURE']].corr()"
   ]
  },
  {
   "cell_type": "code",
   "execution_count": 37,
   "id": "6ecdf180",
   "metadata": {},
   "outputs": [],
   "source": [
    "df2 = df[['TENURE', 'TOTALCHARGES', 'CHARGE_PER_TENURE', 'CHURN']].dropna()"
   ]
  },
  {
   "cell_type": "code",
   "execution_count": 38,
   "id": "3ecfc739",
   "metadata": {},
   "outputs": [
    {
     "name": "stdout",
     "output_type": "stream",
     "text": [
      "             Feature        VIF\n",
      "0              const  11.317645\n",
      "1             TENURE   4.944313\n",
      "2       TOTALCHARGES   9.877109\n",
      "3  CHARGE_PER_TENURE   3.782647\n"
     ]
    }
   ],
   "source": [
    "from statsmodels.stats.outliers_influence import variance_inflation_factor\n",
    "from statsmodels.tools.tools import add_constant\n",
    "import pandas as pd\n",
    "\n",
    "X = df2[['TENURE', 'TOTALCHARGES', 'CHARGE_PER_TENURE']]\n",
    "X = add_constant(X)\n",
    "\n",
    "vif = pd.DataFrame()\n",
    "vif[\"Feature\"] = X.columns\n",
    "vif[\"VIF\"] = [variance_inflation_factor(X.values, i) for i in range(X.shape[1])]\n",
    "print(vif)\n"
   ]
  },
  {
   "cell_type": "code",
   "execution_count": 39,
   "id": "488ccd7e",
   "metadata": {},
   "outputs": [
    {
     "name": "stdout",
     "output_type": "stream",
     "text": [
      "Base model: 0.7699094448505288\n",
      "Derived only: 0.7342150252598014\n",
      "All features: 0.772182169825532\n"
     ]
    }
   ],
   "source": [
    "from sklearn.model_selection import cross_val_score\n",
    "from sklearn.linear_model import LogisticRegression  # or other model\n",
    "\n",
    "X1 = df2[['TENURE', 'TOTALCHARGES']]\n",
    "X2 = df2[['CHARGE_PER_TENURE']]\n",
    "X3 = df2[['TENURE', 'TOTALCHARGES', 'CHARGE_PER_TENURE']]\n",
    "y = df2['CHURN'].map({'Yes': 1, 'No': 0})\n",
    "\n",
    "model = LogisticRegression(max_iter=1000)\n",
    "\n",
    "print(\"Base model:\", cross_val_score(model, X1, y, cv=5).mean())\n",
    "print(\"Derived only:\", cross_val_score(model, X2, y, cv=5).mean())\n",
    "print(\"All features:\", cross_val_score(model, X3, y, cv=5).mean())\n"
   ]
  },
  {
   "cell_type": "markdown",
   "id": "7f72aca2",
   "metadata": {},
   "source": [
    "#### Derived-only model is decent but weaker:\n",
    "\n",
    "- Accuracy: 0.734\n",
    "- Meaning: CHARGE_PER_TENURE captures a large portion, but not all of the signal from the original features.\n",
    "- This supports the idea that it's informative, but not a perfect substitute."
   ]
  },
  {
   "cell_type": "code",
   "execution_count": 40,
   "id": "a00a50f0",
   "metadata": {},
   "outputs": [],
   "source": [
    "# dropping 'CHARGE_PER_TENURE'\n",
    "\n",
    "df = df.drop(columns=['CHARGE_PER_TENURE'])"
   ]
  },
  {
   "cell_type": "code",
   "execution_count": 41,
   "id": "ea13a40d",
   "metadata": {},
   "outputs": [
    {
     "data": {
      "text/plain": [
       "Index(['GENDER', 'SENIORCITIZEN', 'PARTNER', 'DEPENDENTS', 'TENURE',\n",
       "       'PHONESERVICE', 'MULTIPLELINES', 'INTERNETSERVICE', 'ONLINESECURITY',\n",
       "       'ONLINEBACKUP', 'DEVICEPROTECTION', 'TECHSUPPORT', 'STREAMINGTV',\n",
       "       'STREAMINGMOVIES', 'CONTRACT', 'PAPERLESSBILLING', 'PAYMENTMETHOD',\n",
       "       'MONTHLYCHARGES', 'TOTALCHARGES', 'CHURN', 'MONTHLYCHARGE_BRACKET'],\n",
       "      dtype='object')"
      ]
     },
     "execution_count": 41,
     "metadata": {},
     "output_type": "execute_result"
    }
   ],
   "source": [
    "df.columns"
   ]
  },
  {
   "cell_type": "code",
   "execution_count": 42,
   "id": "444b194d",
   "metadata": {},
   "outputs": [],
   "source": [
    "# new column: IS_STREAMING\n",
    "# If user is streaming either of the service (TV or MOVIES), IS_STREAMING=True\n",
    "\n",
    "df['IS_STREAMING'] = ((df['STREAMINGMOVIES'] == 'Yes') | (df['STREAMINGTV'] == 'Yes')).astype(int)"
   ]
  },
  {
   "cell_type": "code",
   "execution_count": 43,
   "id": "b94dfc84",
   "metadata": {},
   "outputs": [
    {
     "data": {
      "text/html": [
       "<div>\n",
       "<style scoped>\n",
       "    .dataframe tbody tr th:only-of-type {\n",
       "        vertical-align: middle;\n",
       "    }\n",
       "\n",
       "    .dataframe tbody tr th {\n",
       "        vertical-align: top;\n",
       "    }\n",
       "\n",
       "    .dataframe thead th {\n",
       "        text-align: right;\n",
       "    }\n",
       "</style>\n",
       "<table border=\"1\" class=\"dataframe\">\n",
       "  <thead>\n",
       "    <tr style=\"text-align: right;\">\n",
       "      <th></th>\n",
       "      <th>STREAMINGTV_No internet service</th>\n",
       "      <th>STREAMINGTV_Yes</th>\n",
       "      <th>STREAMINGMOVIES_No internet service</th>\n",
       "      <th>STREAMINGMOVIES_Yes</th>\n",
       "      <th>IS_STREAMING_1</th>\n",
       "      <th>CHURN_Yes</th>\n",
       "    </tr>\n",
       "  </thead>\n",
       "  <tbody>\n",
       "    <tr>\n",
       "      <th>0</th>\n",
       "      <td>0.0</td>\n",
       "      <td>0.0</td>\n",
       "      <td>0.0</td>\n",
       "      <td>0.0</td>\n",
       "      <td>0.0</td>\n",
       "      <td>0.0</td>\n",
       "    </tr>\n",
       "    <tr>\n",
       "      <th>1</th>\n",
       "      <td>0.0</td>\n",
       "      <td>0.0</td>\n",
       "      <td>0.0</td>\n",
       "      <td>0.0</td>\n",
       "      <td>0.0</td>\n",
       "      <td>0.0</td>\n",
       "    </tr>\n",
       "    <tr>\n",
       "      <th>2</th>\n",
       "      <td>0.0</td>\n",
       "      <td>0.0</td>\n",
       "      <td>0.0</td>\n",
       "      <td>0.0</td>\n",
       "      <td>0.0</td>\n",
       "      <td>1.0</td>\n",
       "    </tr>\n",
       "    <tr>\n",
       "      <th>3</th>\n",
       "      <td>0.0</td>\n",
       "      <td>0.0</td>\n",
       "      <td>0.0</td>\n",
       "      <td>0.0</td>\n",
       "      <td>0.0</td>\n",
       "      <td>0.0</td>\n",
       "    </tr>\n",
       "    <tr>\n",
       "      <th>4</th>\n",
       "      <td>0.0</td>\n",
       "      <td>0.0</td>\n",
       "      <td>0.0</td>\n",
       "      <td>0.0</td>\n",
       "      <td>0.0</td>\n",
       "      <td>1.0</td>\n",
       "    </tr>\n",
       "    <tr>\n",
       "      <th>...</th>\n",
       "      <td>...</td>\n",
       "      <td>...</td>\n",
       "      <td>...</td>\n",
       "      <td>...</td>\n",
       "      <td>...</td>\n",
       "      <td>...</td>\n",
       "    </tr>\n",
       "    <tr>\n",
       "      <th>7027</th>\n",
       "      <td>0.0</td>\n",
       "      <td>1.0</td>\n",
       "      <td>0.0</td>\n",
       "      <td>1.0</td>\n",
       "      <td>1.0</td>\n",
       "      <td>0.0</td>\n",
       "    </tr>\n",
       "    <tr>\n",
       "      <th>7028</th>\n",
       "      <td>0.0</td>\n",
       "      <td>1.0</td>\n",
       "      <td>0.0</td>\n",
       "      <td>1.0</td>\n",
       "      <td>1.0</td>\n",
       "      <td>0.0</td>\n",
       "    </tr>\n",
       "    <tr>\n",
       "      <th>7029</th>\n",
       "      <td>0.0</td>\n",
       "      <td>0.0</td>\n",
       "      <td>0.0</td>\n",
       "      <td>0.0</td>\n",
       "      <td>0.0</td>\n",
       "      <td>0.0</td>\n",
       "    </tr>\n",
       "    <tr>\n",
       "      <th>7030</th>\n",
       "      <td>0.0</td>\n",
       "      <td>0.0</td>\n",
       "      <td>0.0</td>\n",
       "      <td>0.0</td>\n",
       "      <td>0.0</td>\n",
       "      <td>1.0</td>\n",
       "    </tr>\n",
       "    <tr>\n",
       "      <th>7031</th>\n",
       "      <td>0.0</td>\n",
       "      <td>1.0</td>\n",
       "      <td>0.0</td>\n",
       "      <td>1.0</td>\n",
       "      <td>1.0</td>\n",
       "      <td>0.0</td>\n",
       "    </tr>\n",
       "  </tbody>\n",
       "</table>\n",
       "<p>7032 rows × 6 columns</p>\n",
       "</div>"
      ],
      "text/plain": [
       "      STREAMINGTV_No internet service  STREAMINGTV_Yes  \\\n",
       "0                                 0.0              0.0   \n",
       "1                                 0.0              0.0   \n",
       "2                                 0.0              0.0   \n",
       "3                                 0.0              0.0   \n",
       "4                                 0.0              0.0   \n",
       "...                               ...              ...   \n",
       "7027                              0.0              1.0   \n",
       "7028                              0.0              1.0   \n",
       "7029                              0.0              0.0   \n",
       "7030                              0.0              0.0   \n",
       "7031                              0.0              1.0   \n",
       "\n",
       "      STREAMINGMOVIES_No internet service  STREAMINGMOVIES_Yes  \\\n",
       "0                                     0.0                  0.0   \n",
       "1                                     0.0                  0.0   \n",
       "2                                     0.0                  0.0   \n",
       "3                                     0.0                  0.0   \n",
       "4                                     0.0                  0.0   \n",
       "...                                   ...                  ...   \n",
       "7027                                  0.0                  1.0   \n",
       "7028                                  0.0                  1.0   \n",
       "7029                                  0.0                  0.0   \n",
       "7030                                  0.0                  0.0   \n",
       "7031                                  0.0                  1.0   \n",
       "\n",
       "      IS_STREAMING_1  CHURN_Yes  \n",
       "0                0.0        0.0  \n",
       "1                0.0        0.0  \n",
       "2                0.0        1.0  \n",
       "3                0.0        0.0  \n",
       "4                0.0        1.0  \n",
       "...              ...        ...  \n",
       "7027             1.0        0.0  \n",
       "7028             1.0        0.0  \n",
       "7029             0.0        0.0  \n",
       "7030             0.0        1.0  \n",
       "7031             1.0        0.0  \n",
       "\n",
       "[7032 rows x 6 columns]"
      ]
     },
     "execution_count": 43,
     "metadata": {},
     "output_type": "execute_result"
    }
   ],
   "source": [
    "df3 = df[['STREAMINGTV', 'STREAMINGMOVIES', 'IS_STREAMING', 'CHURN']]\n",
    "cols = list(df3.columns)\n",
    "\n",
    "from sklearn.preprocessing import OneHotEncoder\n",
    "encoder = OneHotEncoder(sparse_output=False, drop='first')\n",
    "encoded_df3 = encoder.fit_transform(df3)\n",
    "\n",
    "df3 = pd.DataFrame(encoded_df3, columns=encoder.get_feature_names_out(cols))\n",
    "df3\n"
   ]
  },
  {
   "cell_type": "code",
   "execution_count": 44,
   "id": "a35835b2",
   "metadata": {},
   "outputs": [
    {
     "name": "stdout",
     "output_type": "stream",
     "text": [
      "Base model: 1.0\n",
      "Derived only: 1.0\n",
      "All features: 1.0\n"
     ]
    }
   ],
   "source": [
    "model2 = LogisticRegression(max_iter=1000)\n",
    "\n",
    "X1 = df3[['STREAMINGTV_No internet service', 'STREAMINGTV_Yes',\n",
    "       'STREAMINGMOVIES_No internet service', 'STREAMINGMOVIES_Yes', 'CHURN_Yes']]\n",
    "X2 = df3[['IS_STREAMING_1', 'CHURN_Yes']]\n",
    "X3 = df3[['STREAMINGTV_No internet service', 'STREAMINGTV_Yes',\n",
    "       'STREAMINGMOVIES_No internet service', 'STREAMINGMOVIES_Yes',\n",
    "       'IS_STREAMING_1', 'CHURN_Yes']]\n",
    "y = df3['CHURN_Yes']\n",
    "\n",
    "print(\"Base model:\", cross_val_score(model2, X1, y, cv=5).mean())\n",
    "print(\"Derived only:\", cross_val_score(model2, X2, y, cv=5).mean())\n",
    "print(\"All features:\", cross_val_score(model2, X3, y, cv=5).mean())"
   ]
  },
  {
   "cell_type": "markdown",
   "id": "b6dab2a9",
   "metadata": {},
   "source": [
    "We can keep 'IS_STREAMING' instead of 'STREAMINGTV' and \"STREAMINGMOVIES'"
   ]
  },
  {
   "cell_type": "code",
   "execution_count": 45,
   "id": "5059a229",
   "metadata": {},
   "outputs": [],
   "source": [
    "df = df.drop(columns=['STREAMINGTV', 'STREAMINGMOVIES', 'MONTHLYCHARGE_BRACKET'])"
   ]
  },
  {
   "cell_type": "markdown",
   "id": "5a01ab8c",
   "metadata": {},
   "source": [
    "### Train-Test Split"
   ]
  },
  {
   "cell_type": "code",
   "execution_count": 46,
   "id": "69ecd6ff",
   "metadata": {},
   "outputs": [],
   "source": [
    "# separate target from features\n",
    "X = df.drop(columns=['CHURN'])\n",
    "y = df['CHURN'].map({'Yes': 1, 'No': 0})"
   ]
  },
  {
   "cell_type": "code",
   "execution_count": 47,
   "id": "456a5cbb",
   "metadata": {},
   "outputs": [],
   "source": [
    "# train test split\n",
    "\n",
    "from sklearn.model_selection import train_test_split\n",
    "\n",
    "X_train, X_test, y_train, y_test = train_test_split(X, y, test_size=0.2, stratify=y, random_state=42)"
   ]
  },
  {
   "cell_type": "markdown",
   "id": "e0b306c5",
   "metadata": {},
   "source": [
    "### Data Transformation"
   ]
  },
  {
   "cell_type": "code",
   "execution_count": 48,
   "id": "d66c775f",
   "metadata": {},
   "outputs": [],
   "source": [
    "# separate the columns\n",
    "\n",
    "num_cols = X.select_dtypes(include=['number']).columns.to_list()\n",
    "cat_cols = X.select_dtypes(include=['object']).columns.to_list()"
   ]
  },
  {
   "cell_type": "code",
   "execution_count": 49,
   "id": "542580cb",
   "metadata": {},
   "outputs": [],
   "source": [
    "# Transformation pipelines\n",
    "\n",
    "from sklearn.pipeline import Pipeline\n",
    "from sklearn.preprocessing import OneHotEncoder, StandardScaler\n",
    "\n",
    "\n",
    "num_pipeline = Pipeline([\n",
    "    ('scaler', StandardScaler())\n",
    "])\n",
    "\n",
    "cat_pipeline = Pipeline([\n",
    "    ('encoder', OneHotEncoder())\n",
    "])"
   ]
  },
  {
   "cell_type": "code",
   "execution_count": 50,
   "id": "098dfe38",
   "metadata": {},
   "outputs": [],
   "source": [
    "# ColumnTransformer\n",
    "\n",
    "from sklearn.compose import ColumnTransformer\n",
    "\n",
    "transform = ColumnTransformer(transformers=[\n",
    "    ('num', num_pipeline, num_cols ),\n",
    "    ('cat', cat_pipeline, cat_cols)\n",
    "])"
   ]
  },
  {
   "cell_type": "code",
   "execution_count": 51,
   "id": "d613eeea",
   "metadata": {},
   "outputs": [],
   "source": [
    "# preparing data for modeling\n",
    "\n",
    "X_train_ready = transform.fit_transform(X_train)\n",
    "X_test_ready = transform.transform(X_test)"
   ]
  },
  {
   "cell_type": "markdown",
   "id": "e1a28aa2",
   "metadata": {},
   "source": [
    "## Baseline Models"
   ]
  },
  {
   "cell_type": "code",
   "execution_count": 52,
   "id": "1f2d61be",
   "metadata": {},
   "outputs": [
    {
     "name": "stdout",
     "output_type": "stream",
     "text": [
      "(5625, 18)\n",
      "(1407, 18)\n"
     ]
    }
   ],
   "source": [
    "print(X_train.shape)\n",
    "print(X_test.shape)"
   ]
  },
  {
   "cell_type": "code",
   "execution_count": 58,
   "id": "2f0dea9c",
   "metadata": {},
   "outputs": [],
   "source": [
    "from sklearn.linear_model import LogisticRegression\n",
    "from sklearn.tree import DecisionTreeClassifier\n",
    "from sklearn.ensemble import RandomForestClassifier\n",
    "from sklearn.metrics import accuracy_score, f1_score, recall_score, precision_score, confusion_matrix, classification_report\n",
    "\n",
    "models ={\n",
    "    'base_lr': LogisticRegression(),\n",
    "    'base_tree': DecisionTreeClassifier(),\n",
    "    'base_rf': RandomForestClassifier()\n",
    "}"
   ]
  },
  {
   "cell_type": "code",
   "execution_count": 55,
   "id": "00a99b76",
   "metadata": {},
   "outputs": [
    {
     "name": "stdout",
     "output_type": "stream",
     "text": [
      "Model: base_lr\n",
      "acc = 79.95735607675905\n",
      "f1 = 0.5994318181818182\n",
      "precision = 0.6393939393939394\n",
      "recall = 0.5641711229946524\n",
      "matrix_base_lr = [[914 119]\n",
      " [163 211]]\n",
      "==============================\n",
      "Model: base_tree\n",
      "acc = 71.64179104477611\n",
      "f1 = 0.4756898817345598\n",
      "precision = 0.46770025839793283\n",
      "recall = 0.4839572192513369\n",
      "matrix_base_tree = [[827 206]\n",
      " [193 181]]\n",
      "==============================\n",
      "Model: base_rf\n",
      "acc = 78.60696517412936\n",
      "f1 = 0.5487256371814093\n",
      "precision = 0.6245733788395904\n",
      "recall = 0.4893048128342246\n",
      "matrix_base_rf = [[923 110]\n",
      " [191 183]]\n",
      "==============================\n"
     ]
    }
   ],
   "source": [
    "for name, model in models.items():\n",
    "    model.fit(X_train_ready, y_train)\n",
    "    y_pred = model.predict(X_test_ready)\n",
    "    \n",
    "    print(f'Model: {name}')\n",
    "    print(f'acc = {accuracy_score(y_test, y_pred)*100}')\n",
    "    print(f'f1 = {f1_score(y_test, y_pred)}')\n",
    "    print(f'precision = {precision_score(y_test, y_pred)}')\n",
    "    print(f'recall = {recall_score(y_test, y_pred)}')\n",
    "    print(f'matrix_{name} = {confusion_matrix(y_test, y_pred)}')\n",
    "    \n",
    "    print('=' * 30)"
   ]
  },
  {
   "cell_type": "markdown",
   "id": "82f62f85",
   "metadata": {},
   "source": [
    "##### Logistic Regression Model"
   ]
  },
  {
   "cell_type": "code",
   "execution_count": 72,
   "id": "ae2cfbbb",
   "metadata": {},
   "outputs": [
    {
     "name": "stdout",
     "output_type": "stream",
     "text": [
      "Model: Linear Regression - Baseline model\n",
      "Model Accuracy = 0.7995735607675906\n",
      "Classification Report for Linear Regression\n",
      "              precision    recall  f1-score   support\n",
      "\n",
      "           0       0.85      0.88      0.87      1033\n",
      "           1       0.64      0.56      0.60       374\n",
      "\n",
      "    accuracy                           0.80      1407\n",
      "   macro avg       0.74      0.72      0.73      1407\n",
      "weighted avg       0.79      0.80      0.80      1407\n",
      "\n"
     ]
    },
    {
     "data": {
      "image/png": "[encoded data removed]",
      "text/plain": [
       "<Figure size 640x480 with 2 Axes>"
      ]
     },
     "metadata": {},
     "output_type": "display_data"
    }
   ],
   "source": [
    "base_reg = LogisticRegression()\n",
    "base_reg.fit(X_train_ready, y_train)\n",
    "y_pred_reg = base_reg.predict(X_test_ready)\n",
    "\n",
    "reg_report = classification_report(y_test, y_pred_reg)\n",
    "\n",
    "print('Model: Linear Regression - Baseline model')\n",
    "print(f'Model Accuracy = {accuracy_score(y_test, y_pred_reg)}')\n",
    "print('Classification Report for Linear Regression')\n",
    "print(reg_report)\n",
    "\n",
    "reg_matrix = confusion_matrix(y_test, y_pred_reg)\n",
    "sns.heatmap(reg_matrix, annot=True, fmt='d',\n",
    "            xticklabels=['Not Churned', 'Churned'],\n",
    "            yticklabels=['Not Churned', 'Churned'])\n",
    "plt.xlabel('Predicted')\n",
    "plt.ylabel('Actual')\n",
    "plt.title('Confusion Matrix')\n",
    "plt.show()"
   ]
  },
  {
   "cell_type": "markdown",
   "id": "1e2ecf77",
   "metadata": {},
   "source": [
    "| Insight                           | Interpretation                                                         |\n",
    "| --------------------------------- | ---------------------------------------------------------------------- |\n",
    "| High precision/recall for class 0 | Model is very good at identifying customers who will **not churn**     |\n",
    "| Low recall for class 1 (churned)  | Model **misses** \\~44% of actual churners                              |\n",
    "| Moderate F1 for class 1           | Model struggles to balance precision and recall for the minority class |\n",
    "| Accuracy of 80%                   | Looks good, but leans more towards 'Not Churn'                         |\n"
   ]
  },
  {
   "cell_type": "markdown",
   "id": "bf9505f0",
   "metadata": {},
   "source": [
    "##### Decision Tree Model"
   ]
  },
  {
   "cell_type": "code",
   "execution_count": 75,
   "id": "b3f4e7b6",
   "metadata": {},
   "outputs": [
    {
     "name": "stdout",
     "output_type": "stream",
     "text": [
      "Model: Decision Tree - Baseline Model\n",
      "Model Accuracy = 0.7213930348258707\n",
      "Classification Report for Decision Tree Model\n",
      "              precision    recall  f1-score   support\n",
      "\n",
      "           0       0.82      0.80      0.81      1033\n",
      "           1       0.48      0.50      0.49       374\n",
      "\n",
      "    accuracy                           0.72      1407\n",
      "   macro avg       0.65      0.65      0.65      1407\n",
      "weighted avg       0.73      0.72      0.72      1407\n",
      "\n"
     ]
    },
    {
     "data": {
      "image/png": "[encoded data removed]",
      "text/plain": [
       "<Figure size 640x480 with 2 Axes>"
      ]
     },
     "metadata": {},
     "output_type": "display_data"
    }
   ],
   "source": [
    "base_tree = DecisionTreeClassifier()\n",
    "base_tree.fit(X_train_ready, y_train)\n",
    "y_pred_tree = base_tree.predict(X_test_ready)\n",
    "tree_report = classification_report(y_test, y_pred_tree)\n",
    "\n",
    "print('Model: Decision Tree - Baseline Model')\n",
    "print(f'Model Accuracy = {accuracy_score(y_test, y_pred_tree)}')\n",
    "print('Classification Report for Decision Tree Model')\n",
    "print(tree_report)\n",
    "\n",
    "tree_matrix = confusion_matrix(y_test, y_pred_tree)\n",
    "sns.heatmap(tree_matrix, annot = True, fmt='d', \n",
    "            xticklabels=['Not Churned', 'Churned'],\n",
    "            yticklabels=['Not Churned', 'Churned'])\n",
    "plt.xlabel('Predicted')\n",
    "plt.ylabel('Actual')\n",
    "plt.title('Confusion Matrix')\n",
    "plt.show()"
   ]
  },
  {
   "cell_type": "markdown",
   "id": "879f9ee9",
   "metadata": {},
   "source": [
    "| Insight                           | Interpretation                                                         |\n",
    "| --------------------------------- | ---------------------------------------------------------------------- |\n",
    "| High precision/recall for class 0 | Model is very good at identifying customers who will **not churn**     |\n",
    "| Low recall for class 1 (churned)  | Model **misses** \\~50% of actual churners                              |\n",
    "| Moderate F1 for class 1           | Model struggles to balance precision and recall for the minority class |\n",
    "| Accuracy of 72%                   | Low accuracy than Logistic Regression                       |\n"
   ]
  },
  {
   "cell_type": "markdown",
   "id": "f6a472c8",
   "metadata": {},
   "source": [
    "##### Random Forest Classifier"
   ]
  },
  {
   "cell_type": "code",
   "execution_count": 76,
   "id": "3d7f8028",
   "metadata": {},
   "outputs": [
    {
     "name": "stdout",
     "output_type": "stream",
     "text": [
      "Model: Random Forest - Baseline Model\n",
      "Model Accuracy = 0.7889125799573561\n",
      "Classification Report for Random Forest Model\n",
      "              precision    recall  f1-score   support\n",
      "\n",
      "           0       0.83      0.89      0.86      1033\n",
      "           1       0.63      0.51      0.56       374\n",
      "\n",
      "    accuracy                           0.79      1407\n",
      "   macro avg       0.73      0.70      0.71      1407\n",
      "weighted avg       0.78      0.79      0.78      1407\n",
      "\n"
     ]
    },
    {
     "data": {
      "image/png": "[encoded data removed]",
      "text/plain": [
       "<Figure size 640x480 with 2 Axes>"
      ]
     },
     "metadata": {},
     "output_type": "display_data"
    }
   ],
   "source": [
    "base_forest = RandomForestClassifier()\n",
    "base_forest.fit(X_train_ready, y_train)\n",
    "y_pred_forest = base_forest.predict(X_test_ready)\n",
    "forest_report = classification_report(y_test, y_pred_forest)\n",
    "\n",
    "print('Model: Random Forest - Baseline Model')\n",
    "print(f'Model Accuracy = {accuracy_score(y_test, y_pred_forest)}')\n",
    "print('Classification Report for Random Forest Model')\n",
    "print(forest_report)\n",
    "\n",
    "forest_matrix = confusion_matrix(y_test, y_pred_forest)\n",
    "sns.heatmap(forest_matrix, annot = True, fmt='d', \n",
    "            xticklabels=['Not Churned', 'Churned'],\n",
    "            yticklabels=['Not Churned', 'Churned'])\n",
    "plt.xlabel('Predicted')\n",
    "plt.ylabel('Actual')\n",
    "plt.title('Confusion Matrix')\n",
    "plt.show()"
   ]
  },
  {
   "cell_type": "markdown",
   "id": "4adf048c",
   "metadata": {},
   "source": [
    "| Insight                           | Interpretation                                                         |\n",
    "| --------------------------------- | ---------------------------------------------------------------------- |\n",
    "| High precision/recall for class 0 | Model is very good at identifying customers who will **not churn**     |\n",
    "| Low recall for class 1 (churned)  | Model **misses** \\~50% of actual churners                              |\n",
    "| Moderate F1 for class 1           | Model struggles to balance precision and recall for the minority class |\n",
    "| Accuracy of 72%                   | Low accuracy than Logistic Regression                       |\n"
   ]
  },
  {
   "cell_type": "markdown",
   "id": "84d80c40",
   "metadata": {},
   "source": [
    "##### Summary\n",
    "\n",
    "- All three models suffers from high class imbalance in target class.\n",
    "- Logistic Regression (accuracy = 80%) outperformed Decision Tree (accuracy = 72%) and Random Forest (accuracy = 79%) models.\n",
    "- All three performed well for predicing non-churners, but performed poorly on predicting churners.\n",
    "    - Logistic Regression missed to predict ~44% churners.\n",
    "    - Decision Tree and Random Forest missed to predict almost 50% churners.\n",
    "\n",
    "##### Next Action\n",
    "- Deal with class imbalance for better performance\n",
    "- Select a model \n",
    "- Hyperparameter tuning"
   ]
  }
 ],
 "metadata": {
  "kernelspec": {
   "display_name": "venv",
   "language": "python",
   "name": "python3"
  },
  "language_info": {
   "codemirror_mode": {
    "name": "ipython",
    "version": 3
   },
   "file_extension": ".py",
   "mimetype": "text/x-python",
   "name": "python",
   "nbconvert_exporter": "python",
   "pygments_lexer": "ipython3",
   "version": "3.13.5"
  }
 },
 "nbformat": 4,
 "nbformat_minor": 5
}
